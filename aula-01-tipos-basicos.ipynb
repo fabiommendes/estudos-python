{
 "cells": [
  {
   "cell_type": "markdown",
   "metadata": {},
   "source": [
    "# Introdução ao Python - noções básicas de programação\n",
    "\n",
    "## Números\n",
    "\n",
    "A forma mais simples de utilizar o Python é como uma calculadora avançada. Computadores, afinal, são poderosas máquinas de calcular e uma linguagem de programação permite utilizar toda essa capacidade. No entanto, vamos começar pelo simples, fazendo contas que talvez não sejam mais complicadas que o que conseguiríamos fazer na calculadora do computador ou do celular.\n",
    "\n",
    "O primeiro passo é abrir o Python. Se você tiver acesso ao terminal (por exemplo no Linux ou MacOS), basta digitar no prompt\n",
    "\n",
    "```\n",
    "$ python3\n",
    "```\n",
    "\n",
    "para abrir o terminal do Python. Usuários Windows também podem acessar o prompt de comandos digitando `tecla windows` + `R` e escrevendo o comando `cmd` ou navegando pelos menus até encontrar o ícone do Python.\n",
    "\n",
    "Você também pode utilizar uma plataforma de execução na nuvem como o Google Colab ou abrir este notebook localmente utilizando o Jupyter. Neste caso, cada célula de código funciona como uma lente para o interpretador Python e pode ser executada diretamente.\n",
    "\n",
    "Independentemente de como você preferir executar o interpretador, podemos usar o Python como uma calculadora simplesmente digitando expressões matemáticas:"
   ]
  },
  {
   "cell_type": "code",
   "execution_count": null,
   "metadata": {},
   "outputs": [],
   "source": [
    "40 + 2"
   ]
  },
  {
   "cell_type": "markdown",
   "metadata": {},
   "source": [
    "(modifique a expressão acima e obtenha outros resultados)\n",
    "\n",
    "Python aceita as quatro operações fundamentais, exponenciação e muitas outras operações avançadas. Mostramos alguns exemplos no quadro abaixo\n",
    "\n",
    "\n",
    "```python\n",
    "40 + 2  # Soma\n",
    "21 * 2  # Multiplicação\n",
    "50 - 8  # Subtração\n",
    "84 / 2  # Divisão\n",
    "```\n",
    "\n",
    "Além disto, podemos realizar exponenciação e obter o valor inteiro e o resto da divisão\n",
    "\n",
    "```python\n",
    "3 ** 2  # Exponenciação\n",
    "9 // 2  # Valor inteiro da divisão (4)\n",
    "9 % 2   # Resto da divisão (1)  \n",
    "```\n",
    "\n",
    "E finalmente, podemos agrupar as expressões com parênteses e definir variáveis\n",
    "\n",
    "```python\n",
    "(10 * 2 + 1) * 2\n",
    "x = 42\n",
    "x + 1\n",
    "```\n",
    "\n",
    "Experimente digitar cada uma destas linhas no terminal para verificar o resultado obtido. Não se limite ao copia e cola, digite versões das expressões com os números que você mais gosta e tente fazer variações com relação aos exemplos acima.\n",
    "\n",
    "Você deve perceber que algumas expressões retornam números inteiros e outras retornam números com parte decimal (como, por exemplo, ``3.14``). Esta diferença será importante mais adiante, mas por enquanto basta saber que o interpretador retorna o tipo que faz sentindo em cada situação e podemos misturar números inteiros e números com parte decimal livremente. \n",
    "\n",
    "Python também aceita números complexos, números racionais (frações), valores decimais e vários outros tipos numéricos para aplicações mais avançadas, mas isto é um assunto para outro dia."
   ]
  },
  {
   "cell_type": "markdown",
   "metadata": {},
   "source": [
    "### Exercícios\n",
    "\n",
    "#### Q01-A1: Calculando a conta\n",
    "\n",
    "Imagine que a variável \"conta\" representa o valor total da conta do boteco e \"n\" o número de pessoas na mesa. Crie um programa que mostre quanto cada pessoa deveria pagar, depois de acrescentar o valor da gorjeta."
   ]
  },
  {
   "cell_type": "code",
   "execution_count": null,
   "metadata": {},
   "outputs": [],
   "source": [
    "conta = 50\n",
    "n = 3\n",
    "valor_por_pessoa = (conta + 0.1 * conta) / n  # Coloque a resposta aqui!\n",
    "print(valor_por_pessoa)"
   ]
  },
  {
   "cell_type": "markdown",
   "metadata": {},
   "source": [
    "## Strings\n",
    "\n",
    "O próximo tipo básico importante representa textos como uma sequência de caracteres. Damos o nome de \"strings\", que em Português seria traduzido como \"cadeia\" (no sentido de uma corrente, não de uma prisão), mas na realidade quase todo mundo usa mesmo o nome em inglês.\n",
    "\n",
    "Uma string é representada por um texto entre aspas:\n",
    "\n",
    "```python\n",
    "nome = \"João e Maria\"\n",
    "```\n",
    "\n",
    "Este texto pode conter letras, números, espaços, acentos e outros, mas alguns caracteres são representados de forma especial. Para começar, se o próprio texto contiver aspas, devemos avisar que ela não corresponde ao final da string. Isto é feito utilizando a barra como caracter de escape:\n",
    "\n",
    "```python\n",
    "mensagem = \"\\\"Do or do not, there is no try\\\" - Yoda\" \n",
    "```\n",
    "\n",
    "Deste modo, o computador entende que uma `\"` precedida de uma `\\` na verdade representa uma aspa no texto e não o fim da string. Existem vários caracteres especiais usando sequências de escape, citamos aqui alguns deles\n",
    "\n",
    "|Escape|Descrição|\n",
    "|------|---------|\n",
    "|`\\\"`|Aspa duplas|\n",
    "|`\\'`|Aspa simples|\n",
    "|`\\\\`|Barra|\n",
    "|`\\n`|Quebra de linha|\n",
    "|`\\t`|Tabulação|\n",
    "|`\\U0001F4A9`|Emoji (a partir de código unicode)|\n",
    "\n",
    "\n",
    "### Operações com strings\n",
    "\n",
    "Talvez a operação mais simples que podemos fazer com strings seja mostrá-las na tela. Para isso, usamos o comando `print` para mostrar o conteúdo do texto sem mostrar aspas nem sequências de escape.\n",
    "\n",
    "```python\n",
    "print(\"Hello World!\")\n",
    "```\n",
    "\n",
    "Isto mostrará a mensagem `Hello World` no terminal.\n",
    "\n",
    "\n",
    "Considere que `texto` seja uma variável que guarda uma string. Existem várias operações básicas disponíveis, das quais citamos apenas algumas das mais importantes.\n",
    "\n",
    "|Operação|Descrição|\n",
    "|--------|---------|\n",
    "|`texto1 + texto2`|Concatenação de strings|\n",
    "|`texto1 * n`|Concatena n cópias da string|\n",
    "|`print(texto)`|Mostra texto na tela|\n",
    "|`len(texto)`|Retorna tamanho da string|\n",
    "|`texto.upper()`|Converte string para maiúsculas|\n",
    "|`texto.lower()`|Converte string para minúsculas|\n",
    "|`texto.isupper()`|Verifica se todas letras são maiúsculas|\n",
    "|`texto.islower()`|Verifica se todas letras são minúsculas|\n",
    "|`texto.replace(a, b)`|Troca todas ocorrências de `a` por `b`|\n",
    "\n",
    "Veja que existem dois tipos de funções: aquelas que chamamos como `funcao(texto)` e as outras na forma `texto.funcao()`. As primeiras são funções genérica e geralmente funcionam em vários tipos diferentes, não se limitando às strings. Já a segunda forma é reservada para funções específicas de um determinado tipo e normalemente são referidas como métodos do tipo. Assim, podemos experar que `len(x)` funcione para qualquer tipo em que faz sentido definir uma noção de tamanho (strings, listas, conjuntos, etc). Já `x.lower()` é um método do tipo string e só faz sentido ser executado em variáveis que guardam texto. \n",
    "\n",
    "Essa distinção é um pouco confusa porque o Python não é muito rigoroso em como separa os dois tipos de função e muitas vezes a noção do que pode ser considerado uma função genérica e o que deve ser considerado específico de um determinado tipo é bastante arbitrária.\n",
    "\n",
    "\n",
    "### Índices e fatiamento\n",
    "\n",
    "Uma string pode ser pensada como uma sequência de caracteres (que por sua vez são strings de tamanho 1). Podemos encontrar os caracteres por posição ou extrair pedaços de strings utilizando a notação de indexação e fatiamento.\n",
    "\n",
    "Em Python, assim como na maioria das linguagens de programação, contamos a posição dos itens em uma sequência a partir do zero. Desta forma, o primeiro elemento está na posição zero o segundo na posição um e assim por diante. \n",
    "\n",
    "Deste modo, podemos associar cada posição a um número. Considere a string `texto = \"Hello\"`. Podemos acessar os elementos de diversas maneiras, todas utilizando alguma variação da notação com colchetes. \n",
    "\n",
    "|Operação|Descrição|\n",
    "|--------|---------|\n",
    "|`texto[0]`|Primeiro elemento, ou seja `H`|\n",
    "|`texto[1]`|Segundo elemento, ou seja `e`|\n",
    "|`texto[-1]`|Último elemento, ou seja `o`|\n",
    "|`texto[-2]`|Penúltimo elemento, ou seja `l`|\n",
    "|`texto[1:]`|Do segundo elemento em diante|\n",
    "|`texto[:3]`|Até o quarto elemento (sem incluí-lo)|\n",
    "|`texto[::2]`|String inteira, andando de dois em dois|\n",
    "|`texto[::-1]`|String inteira, invertendo a ordem dos elementos|\n",
    "\n",
    "De um modo geral, o fatiamento possui a estrutura `texto[a:b:c]`:\n",
    "\n",
    "* `a` representa o índice do início do fatiamento (e corresponde ao começo da string, caso seja omitido\n",
    "* `b` representa o índice do final do fatiamento e não é incluído no resultado. Se omitido, realiza o fatiamento até o final da string.\n",
    "* `c` representa o passo do fatiamento e se omitido, assume um passo de 1 em 1.\n",
    "\n",
    "\n",
    "### Exercícios\n",
    "\n",
    "#### QB1: Consoantes\n",
    "\n",
    "Boa parte das sílabas da língua portuguesa é formada apenas por uma consoante seguida de uma vogal. Assumindo que todas as sílabas de uma palavra possuem essa estrutura, utilize fatiamento de strings para separar as vogais das consoantes."
   ]
  },
  {
   "cell_type": "code",
   "execution_count": null,
   "metadata": {},
   "outputs": [],
   "source": [
    "palavra = \"paralelepipedo\"\n",
    "vogais = ...\n",
    "consoantes = ...\n",
    "print(vogais, consoantes)"
   ]
  },
  {
   "cell_type": "markdown",
   "metadata": {},
   "source": [
    "#### Q01-B2: Palíndromos \n",
    "\n",
    "Crie um programa que detecte se uma string `st` é um palíndromo. Uma string é considerada um palíndromo se for constituir a mesma sequência de letras quando lida de trás para frente. \n",
    "\n",
    "No teste, considere que espaços em branco e letras maiúsculas/minúsculas são irrelevantes."
   ]
  },
  {
   "cell_type": "code",
   "execution_count": null,
   "metadata": {},
   "outputs": [],
   "source": [
    "st = \"Socorram me subi no onibus em marrocos\"\n",
    "... # Crie o código para verificar se a string é um palíndromo"
   ]
  },
  {
   "cell_type": "markdown",
   "metadata": {},
   "source": [
    "## Listas e tuplas\n",
    "\n",
    "Existem duas maneiras principais de armazenar uma sequência de objetos em Python: as listas e as tuplas. A principal difereça entre as duas é o fato que listas podem ser modificadas após a criação, enquanto as tuplas não. Sintaticamente, listas são delimitadas por colchetes enquanto tuplas são delimitadas por parênteses.\n",
    "\n",
    "```python\n",
    "lista = [1, 2, 3]\n",
    "tupla = (1, 2, 3)\n",
    "```\n",
    "\n",
    "Tanto as listas quanto as tuplas aceitam a mesma notação de indexação e fatiamento de strings. Podemos recuperar os elementos da lista (ou tupla), portanto, usando comandos como no exemplo:\n",
    "\n",
    "```python\n",
    "lista[0]     # primeiro elemento\n",
    "lista[-1]    # último elemento\n",
    "lista[::-1]  # retorna cópia invertida\n",
    "```\n",
    "\n",
    "Algumas funções também são comuns às listas e tuplas. \n",
    "\n",
    "|Comando|Descrição|\n",
    "|-------|---------|\n",
    "|`sorted(seq)`|Retorna uma cópia ordenada|\n",
    "|`seq.count(elem)`|Conta o número de ocorrências de um elemento|\n",
    "|`seq.index(elem)`|Retorna a posição da primeira ocorrência do elemento|\n",
    "|`seq + seq`|Concatena duas sequências do mesmo tipo|\n",
    "|`seq * n`|Concatena n cópias da sequência|\n",
    "|`list(seq)`|Converte sequência para lista|\n",
    "|`tuple(seq)`|Converte sequência para tupla|\n",
    "\n",
    "Muitas vezes conhecemos o tamanho de uma sequência e (ou pelo menos que ela contêm um número mínimo de elementos) e desejamos extrair diretamente alguns valores salvando-os em variáveis. Este tipo de operação é conhecida como \"desconstrução\" de uma lista. Em Python, podemos descostruir listas atribuindo-a a varias variáveis no lado esquerdo do sinal de igual.\n",
    "\n",
    "|Comando|Descrição|\n",
    "|-------|---------|\n",
    "|`a, b = lista`|Desconstrói lista de exatamente 2 elementos|\n",
    "|`a, b, *resto = lista`|Salva os dois primeiros elementos em a e b e o resto numa lista \"resto\"|\n",
    "|`*comeco, a, b = lista`|Salva os últimos elementos em a e b e salva o início da lista na variável \"comeco\"|\n",
    "\n",
    "Tome cuidado quando for desconstruir listas e tuplas, para que o número de variáveis do lado esquerdo corresponda ao número de elementos da lista. Caso o tamanho não seja conhecido de antemão, usamos a sintaxe `*variavel` para salvar qualquer quantidade de valores na forma de uma lista. \n",
    "\n",
    "#### Operações exclusivas de listas\n",
    "\n",
    "Podemos pensar em tuplas como versões imutáveis de listas. Até agora, mostramos apenas operações que não alteram o conteúdo das sequências e portanto funcionam igualmente bem em listas e tuplas. Nessa seção, no entanto, mostramos as funções que modificam o conteúdo da lista e portanto não estão disponíveis em tuplas.\n",
    "\n",
    "Existem alguns comandos importantes para alterar o conteúdo de uma lista que todo programador(a) Python deve conhecer. Estes comandos servem para acrescentar elementos a uma lista, remover elementos específicos ou reorganizar o conteúdo de alguma maneira.\n",
    "\n",
    "|Comando|Descrição|\n",
    "|-------|---------|\n",
    "|`del lista[i]`|Remove elemento na posição i (também podemos usar a notação de fatiamento)|\n",
    "|`lista.pop()`|Remove o último elemento e retorna seu valor|\n",
    "|`lista.append(x)`|Adiciona x ao final da lista|\n",
    "|`lista.sort()`|Ordena lista|\n",
    "\n",
    "Um padrão de programação muito comum quando lidamos com listas em Python é criar uma lista vazia e utilizar o método `append()` assim que calculamos cada novo elemento da lista. Isto normalmente é feito dentro de um loop (que veremos com detalhes mais tarde). Veja um exemplo simples que calcula os primeiros números de Fibonacci"
   ]
  },
  {
   "cell_type": "code",
   "execution_count": null,
   "metadata": {},
   "outputs": [],
   "source": [
    "fibo = []   # Lista vazia de números de Fibonacci\n",
    "x = y = 1   # Inicializa x e y como 1\n",
    "\n",
    "fibo.append(x)     # Acrescenta um valor\n",
    "x, y = (y, x + y)  # Aqui usamos a desconstrução de listas para atualizar x e y simultaneamente\n",
    "\n",
    "\n",
    "fibo.append(x)     # Repetimos várias vezes...\n",
    "x, y = (y, x + y)  \n",
    "\n",
    "fibo.append(x)\n",
    "x, y = (y, x + y)  \n",
    "\n",
    "fibo.append(x)\n",
    "x, y = (y, x + y)  \n",
    "\n",
    "fibo.append(x)\n",
    "x, y = (y, x + y)  # (Seria melhor usar um loop, né?)  \n",
    "\n",
    "print(fibo)"
   ]
  },
  {
   "cell_type": "markdown",
   "metadata": {},
   "source": [
    "### Exercícios\n",
    "\n",
    "#### Q01-C1: Ranges\n",
    "\n",
    "A função range(n) produz uma sequência de números de 0 até n, sem incluí-lo. Podemos converter um `range` para listas ou tuplas utilizando as funções `list` ou `tuple`. A partir daí, use o fatiamento para obter todos os números múltiplos de 3 da lista de números de 0 até 100 e a função sum para somá-los."
   ]
  },
  {
   "cell_type": "code",
   "execution_count": null,
   "metadata": {},
   "outputs": [],
   "source": [
    "n = 10\n",
    "xs = list(range(n))\n",
    "\n",
    "# Some e faça o fatiamento aqui!\n",
    "print(xs)"
   ]
  },
  {
   "cell_type": "markdown",
   "metadata": {},
   "source": [
    "#### Q01-C2: Ordenamento\n",
    "\n",
    "A função list.sort() ordena a lista modificando a disposição dos items. Muitas vezes queremos verificar se uma lista está ordenada sem modificar seu conteúdo. Crie um programa que verifica se a lista está ordenada, mas sem modificá-la. Dica: você pode criar uma cópia da lista, ordená-la e verificar se a cópia é igual à lista original. Tente criar uma cópia utilizando fatiamento."
   ]
  },
  {
   "cell_type": "code",
   "execution_count": null,
   "metadata": {},
   "outputs": [],
   "source": [
    "lista = [8, 42, 1917, 3, 8]  # Alguns números aleatórios\n",
    "\n",
    "# Verifique o ordenamento aqui!\n",
    "lista == [3, 8, 8, 42, 1917]"
   ]
  },
  {
   "cell_type": "markdown",
   "metadata": {},
   "source": [
    "### Dicionários\n",
    "\n",
    "Listas e tuplas armazenam valores sequencialmente, de forma que identificamos cada elemento por sua posição. Ainda que este tipo de representação seja muito flexível, existem muitas situações onde ela não é inteiramente adequada. Considere por exemplo o código abaixo que representa as informações de cadastro de um usuário:"
   ]
  },
  {
   "cell_type": "code",
   "execution_count": null,
   "metadata": {},
   "outputs": [],
   "source": [
    "usuario = [\n",
    "    \"Fábio Mendes\",       # Nome\n",
    "    \"fabiomendes@unb.br\", # E-mail\n",
    "    38,                   # Idade\n",
    "    \"passwrd1234\",        # Senha    \n",
    "]"
   ]
  },
  {
   "cell_type": "markdown",
   "metadata": {},
   "source": [
    "Ainda que seja possível armazenar todas essas informações em uma lista, o uso é bastante inconveniente pois é necessário lembrar qual é a posição associada a cada campo. Por exemplo, se quisermos verificar qual a senha de um usuário, seria necessário chamar `usuario[3]`, o que parece bastante obscuro e frágil, já que este código não fornece nenhuma indicação explícita que queremos o campo de e-mail.\n",
    "\n",
    "Dicionários resolvem este problema já que armazenam associação entre valores, ao invés de uma simples sequência. É comum associar strings a valores, mas isto náo é necessário. Usando dicionários, nossa representação de usuário ficaria"
   ]
  },
  {
   "cell_type": "code",
   "execution_count": null,
   "metadata": {},
   "outputs": [],
   "source": [
    "usuario = {\n",
    "    \"nome\": \"Fábio Mendes\",\n",
    "    \"email\": \"fabiomendes@unb.br\",\n",
    "    \"idade\": 38,\n",
    "    \"senha\": \"passwrd1234\",\n",
    "}"
   ]
  },
  {
   "cell_type": "markdown",
   "metadata": {},
   "source": [
    "Agora os campos não são mais identificados pela sua posição, mas sim por uma string. Chamamos os itens do lado esquerdo da associação (\"nome\", \"email\", etc) de **chaves** e os itens do lado direito de **valores**. Para acessar um valor, basta usar a notação de índice com a chave correspondente"
   ]
  },
  {
   "cell_type": "code",
   "execution_count": null,
   "metadata": {},
   "outputs": [],
   "source": [
    "usuario['senha']"
   ]
  },
  {
   "cell_type": "markdown",
   "metadata": {},
   "source": [
    "### Exercícios\n",
    "\n",
    "#### Q01-D1: Login\n",
    "\n",
    "Uma forma simples de autenticação consiste em verificar se as credenciais fornecidas, como por exemplo senha e e-mail, são válidas para um determinado usuário. Imagine o e-mail e senha fornecidos pelo usuário estão salvos respectivamente na variável senha e email. Verifique se os valores fornecidos são válidos para o usuário especificado anteriormente."
   ]
  },
  {
   "cell_type": "code",
   "execution_count": null,
   "metadata": {},
   "outputs": [],
   "source": [
    "senha = \"12345\"\n",
    "email = \"fabiomendes@unb.br\"\n",
    "\n",
    "# Teste aqui se as credenciais são válidas\n",
    "login = False\n",
    "print(login)"
   ]
  },
  {
   "cell_type": "markdown",
   "metadata": {},
   "source": [
    "#### Q01-D2: Números por extenso\n",
    "\n",
    "Ainda que seja muito comum criar dicionários com chaves do tipo string, isto não é necessário. Dicionários do Python aceitam vários outros tipos como chaves, incluindo números, tuplas, booleanos e vários outros. No exemplo abaixo, o dicionário mapeia dígitos às suas representações textuais. Crie um programa que receba um número de 10 a 99 e imprima os dois dígitos na forma extensa."
   ]
  },
  {
   "cell_type": "code",
   "execution_count": null,
   "metadata": {},
   "outputs": [],
   "source": [
    "digitos = {\n",
    "    0: \"zero\", 1: \"um\", 2: \"dois\", 3: \"três\", 4: \"quatro\", 5: \"cinco\", \n",
    "    6: \"seis\", 7: \"sete\", 8: \"oito\", 9: \"nove\", 10: \"dez\",\n",
    "}\n",
    "numero = 42\n",
    "\n",
    "# Imprima os dígitos do número (no exemplo seria \"quatro dois\")\n",
    "dezena = ...\n",
    "unidade = ...\n",
    "dezena + \" \" + unidade"
   ]
  },
  {
   "cell_type": "markdown",
   "metadata": {},
   "source": [
    "#### Q01-D3: Extra\n",
    "\n",
    "* ..."
   ]
  },
  {
   "cell_type": "markdown",
   "metadata": {},
   "source": [
    "### Laços \"for\"\n",
    "\n",
    "Computadores são muito bons em realizar tarefas repetitivas já que nunca se cansam ou se distraem. Como boa parte das linguagens de programação, Python possui dois comandos básicos de repetição, o laço \"for\" e o laço \"while\". O \"for\" é utilizado quando precisamos percorrer uma sequência previsível de valores e realizar um determinado conjunto de operações nesta sequência. \n",
    "\n",
    "Por exemplo, a partir de uma lista de números, podemos somar os quadrados como no código abaixo "
   ]
  },
  {
   "cell_type": "code",
   "execution_count": null,
   "metadata": {},
   "outputs": [],
   "source": [
    "numeros = [2, 3, 5, 7, 11, 13]\n",
    "\n",
    "soma = 0\n",
    "for n in numeros:\n",
    "    soma = soma + n**2\n",
    "\n",
    "print(soma)"
   ]
  },
  {
   "cell_type": "markdown",
   "metadata": {},
   "source": [
    "Ainda que o laço for precise de uma sequência para começar, é muito comum utilizarmos sequências numéricas criadas apenas para a tarefa de iteração. Isto é feito normalmente utilizando a função range, que gera sequências de números de várias formas possíveis \n",
    "\n",
    "|Comando|Descrição|Sequência|\n",
    "|-------|---------|---------|\n",
    "|`range(n)`|n números, partindo do zero|0, 1, 2, ..., n - 1|\n",
    "|`range(a, b)`|números de a até b, sem incluir o final|a, a + 1, ..., b - 1|\n",
    "|`range(a, b, c)`|números de a até b, pulando de c em c|a, a + c, ..., b - 1|"
   ]
  },
  {
   "cell_type": "code",
   "execution_count": null,
   "metadata": {},
   "outputs": [],
   "source": [
    "# Modifique a chamada de range e verifique o resultado\n",
    "for n in range(10):\n",
    "    print(n)"
   ]
  },
  {
   "cell_type": "markdown",
   "metadata": {},
   "source": [
    "O laço for é muito utilizado em conjunto com listas para inicializá-las a partir de algum cálculo. No código abaixo, utilizamos o \"range\" para gerar uma lista de números de 0 até 10 e criamos uma lista com os 10 primeiros quadrados a partir do range original."
   ]
  },
  {
   "cell_type": "code",
   "execution_count": null,
   "metadata": {},
   "outputs": [],
   "source": [
    "quadrados = []\n",
    "for n in range(10):\n",
    "    quadrados.append(n**2)\n",
    "    \n",
    "print(quadrados)"
   ]
  },
  {
   "cell_type": "markdown",
   "metadata": {},
   "source": [
    "Observe que o que delimita a sequência de comandos a ser executada em cada iteração do laço for é a indentação. A estrutura do comando é sempre `for iterador in sequencia: <bloco>`, onde <bloco> consiste em um conjunto de linhas com a mesma indentação e mais à direita que a linha que inicia o laço for. \n",
    "    \n",
    "O exemplo abaixo mostra o cálculo da sequência de Fibonacci que utiliza duas linhas de comando em cada iteração do laço for. Observe como estas linhas devem ficar alinhas perfeitamente! "
   ]
  },
  {
   "cell_type": "code",
   "execution_count": null,
   "metadata": {},
   "outputs": [],
   "source": [
    "x = y = 1\n",
    "fibo = []\n",
    "for n in range(10):\n",
    "    fibo.append(x)\n",
    "    x, y = (y, x + y)   # Desconstrução de tuplas\n",
    "    \n",
    "print(fibo)"
   ]
  },
  {
   "cell_type": "markdown",
   "metadata": {},
   "source": [
    "### Exercícios\n",
    "\n",
    "#### Q01-E1: Fatorial\n",
    "\n",
    "O fatorial de um número n é calculado multiplicando-se todos números de 1 até n (inclusive). Crie um código que utiliza o laço for para calcular o fatorial de um número n dado."
   ]
  },
  {
   "cell_type": "code",
   "execution_count": null,
   "metadata": {},
   "outputs": [],
   "source": [
    "n = 5\n",
    "\n",
    "# Calcule o fatorial aqui!\n",
    "fat = 1\n",
    "\n",
    "print(fat)"
   ]
  },
  {
   "cell_type": "markdown",
   "metadata": {},
   "source": [
    "#### Q01-E2: Criando lista de valores\n",
    "\n",
    "Crie um programa que recebe uma lista de números como entrada e cria uma nova lista com os quadrados destes números. O código deve funcionar para qualquer lista de entrada e não somente para a lista de exemplo. "
   ]
  },
  {
   "cell_type": "code",
   "execution_count": null,
   "metadata": {},
   "outputs": [],
   "source": [
    "entrada = [10, 4, 3, 12, 42]\n",
    "\n",
    "# Crie seu código aqui\n",
    "saida = ...\n",
    "\n",
    "print(saida)"
   ]
  },
  {
   "cell_type": "markdown",
   "metadata": {},
   "source": [
    "#### Q01-E3: Somando vetores I\n",
    "\n",
    "Considere duas listas de números representando vetores tridimensionais. Crie um programa que some os dois vetores e salve o resultado em uma terceira variável chamada soma.  "
   ]
  },
  {
   "cell_type": "code",
   "execution_count": null,
   "metadata": {},
   "outputs": [],
   "source": [
    "u = [1, 2, 3]\n",
    "v = [4, 2, 0]\n",
    "\n",
    "# Crie seu código aqui\n",
    "soma = ...\n",
    "\n",
    "print(soma)"
   ]
  },
  {
   "cell_type": "markdown",
   "metadata": {},
   "source": [
    "#### Q01-E4: Somando vetores II\n",
    "\n",
    "Faça um programa similar ao exercício anterior, mas desta vez não assuma que o tamanho do vetor seja conhecido de antemão. Os dois vetores de entrada u e v devem possuir o mesmo tamanho, mas seu programa deve funcionar para qualquer tamanho de entrada."
   ]
  },
  {
   "cell_type": "code",
   "execution_count": null,
   "metadata": {},
   "outputs": [],
   "source": [
    "u = [1, 2, 3, 4, 5]   # Teste com outros tamanhos de vetores\n",
    "v = [4, 2, 0, 0, 0]\n",
    "\n",
    "# Crie seu código aqui\n",
    "soma = ...\n",
    "\n",
    "print(soma)"
   ]
  },
  {
   "cell_type": "markdown",
   "metadata": {},
   "source": [
    "### Laços \"while\"\n",
    "\n",
    "O segundo comando de repetição que devemos conhecer é o laço \"while\". Nele, executamos o conjunto de instruções do bloco do laço enquanto uma determinada condição for satisfeita. A grande diferença com relação ao \"for\" é que o primeiro normalmente exige que o número de iterações seja dado de antemão e o segundo é apropriado para um número de iterações variável, que é determinado por uma condição que pode ser atualizada a cada passo do loop. \n",
    "\n",
    "A estrutura do while é muito simples:\n",
    "\n",
    "```python\n",
    "while condiçao:\n",
    "    bloco_de_código\n",
    "```\n",
    "\n",
    "Onde a condição é qualquer expressão que retorne um valor booleano e o bloco de código é uma sequência de 1 ou mais linhas alinhadas com o mesmo espaçamento à direita do comando while.\n",
    "\n",
    "O exemplo abaixo utiliza o while para calcular os números da sequência de Fibonacci menores que 1.000.000."
   ]
  },
  {
   "cell_type": "code",
   "execution_count": null,
   "metadata": {},
   "outputs": [],
   "source": [
    "x = y = 1\n",
    "fibo = [x]\n",
    "\n",
    "while y < 1_000_000:  # Podemos colocar underscores nos números para melhorar a legibilidade\n",
    "    fibo.append(y)\n",
    "    x, y = y, x + y   # Observe que o parênteses das tuplas é opcional\n",
    "    \n",
    "print(fibo)"
   ]
  },
  {
   "cell_type": "markdown",
   "metadata": {},
   "source": [
    "Aqui vale a pena comparar o código da seção anterior que utiliza o \"for\" para calcular números de Fibonacci e o exemplo acima utilizando o while. No primeiro caso, é preferível utilizar o \"for\" pois o problema pede para calcular uma quantidade fixa de números de Fibonacci. Deste modo, iteramos por uma sequência pré-estabelecida gerando um número a cada iteração. O segundo exemplo pede os valores menores que 1.000.000, mas como não é simples determinar a quantidade de números de antemão, antes de executar o laço, a melhor solução é utilizar o while e testar se a condição é satisfeita antes de iniciar cada iteração. \n",
    "\n",
    "É possível transformar loop \"for\" em um loop do tipo \"while\", mas geralmente isto é uma má idéia já que o comando while é mais sujeito a erros já que é necessário muito cuidado para determinar a condição de parada e não cair em um laço infinito. Os laços \"for\" são muito menos suscetíveis a bugs que gerariam laços infinitos e por isso são considerados uma opção mais segura.\n",
    "\n",
    "\n",
    "### Exercícios\n",
    "\n",
    "#### Q01-F1: De for para while\n",
    "\n",
    "Converta o código que calcula os 10 primeiros números da sequência de Fibonacci para utilizar o laço \"while\" ao invés do \"for\". "
   ]
  },
  {
   "cell_type": "code",
   "execution_count": null,
   "metadata": {},
   "outputs": [],
   "source": [
    "x = y = 1\n",
    "fibo = []\n",
    "\n",
    "# Não basta remover o for, é preciso inicializar a variável n\n",
    "# e atualizá-la a cada iteração\n",
    "for n in range(10):\n",
    "    fibo.append(x)\n",
    "    x, y = y, x + y\n",
    "    \n",
    "print(fibo)"
   ]
  },
  {
   "cell_type": "markdown",
   "metadata": {},
   "source": [
    "### Condicionais\n",
    "\n",
    "Computadores são especialistas em tarefas repetitivas e cálculos lógicos e matemáticos. Vimos como se programa loops em Python, que são o mecanismo principal de repetição na linguagem. O próximo passo para cobrir o básico de lógica de programação é executar instruções condicionalmente, o que é feito com o comando \"if\".\n",
    "\n",
    "O comando \"if\" possui a seguinte estrutura geral:\n",
    "\n",
    "```python\n",
    "if condicao:\n",
    "    bloco_1\n",
    "elif condicao_2:\n",
    "    bloco_2\n",
    "elif condicao_3:\n",
    "    bloco_3\n",
    "...\n",
    "else:\n",
    "    bloco_else\n",
    "``` \n",
    "\n",
    "De todos estes pedaços, apenas a primeira parte com `if condicao: bloco_1` é obrigatória. O interpretador percorre as condições uma a uma e executa **apenas** o bloco da primeira condição que for verdadeira. Caso nenhuma condição seja satisfeita e o bloco \"if\" define uma cláusula \"else\", o bloco else será executado.\n",
    "\n",
    "É claro que em várias situações iremos combinar blocos \"if\" com laços ou mesmo inserir um comando dentro de outro. No exemplo abaixo, calculamos o menor valor de uma lista combinando \"for\" com \"if\":"
   ]
  },
  {
   "cell_type": "code",
   "execution_count": null,
   "metadata": {},
   "outputs": [],
   "source": [
    "numeros = [10, 4, 100, 200, 20]\n",
    "minimo = numeros[0]\n",
    "\n",
    "for x in numeros:\n",
    "    if x < minimo:\n",
    "        minimo = x\n",
    "        \n",
    "print(minimo)"
   ]
  },
  {
   "cell_type": "markdown",
   "metadata": {},
   "source": [
    "#### Operadores lógicos e de comparação\n",
    "\n",
    "As expressões que representam condições em um bloco if ou while muitas vezes são baseadas em operações de comparação ou em combinação de expressões lógicas. A maior parte dos valores em Python aceitam testes de igualdade. Valores que podem ser ordenados, como números e strings na ordem alfabética, também aceitam operadores de comparação. Listamos abaixo a representação destas operações em Python.\n",
    "\n",
    "|Comando|Descrição|\n",
    "|-------|---------|\n",
    "|`x == y`|x igual a y|\n",
    "|`x != y`|x diferente de y|\n",
    "|`x > y`|x maior que y|\n",
    "|`x < y`|x menor que y|\n",
    "|`x >= y`|x maior ou igual a y|\n",
    "|`x <= y`|x menor ou igual a y|\n",
    "\n",
    "Podemos combinar testes de comparação em expressões lógicas mais sofisticadas usando os operadores \"and\", \"or\" ou \"not\". A sintaxe do Python é bem natural.\n",
    "\n",
    "|Comando|Descrição|\n",
    "|-------|---------|\n",
    "|`a or b`|verdadeiro se a ou b (ou ambas) forem verdadeiras|\n",
    "|`a and b`|verdadeiro se a e be forem verdadeiras|\n",
    "|`not a`|verdadeiro se a for falso|\n",
    "\n",
    "Em todos os testes lógicos, Python é bastante flexível com relação aos valores aceitos. Podemos utilizar os valores booleanos `True` e `False`, mas vários outros tipos possuem um valor de verdade bem definido. A não ser que seja explicitamente especificado, a maior parte dos valores será tratada como \"True\". Algumas exceções importantes são coleções vazias (sejam elas listas, tuplas ou dicionários) e números com o valor igual a zero.\n",
    "\n",
    "O código abaixo, por exemplo, consome uma lista de números e soma o resultado. Note que não verificamos explicitamente o tamanho da lista, mas sim testamos diretamente se ela está vazia usando a lista como variável de teste."
   ]
  },
  {
   "cell_type": "code",
   "execution_count": null,
   "metadata": {},
   "outputs": [],
   "source": [
    "n = 0\n",
    "soma = 0\n",
    "soma_quad = 0\n",
    "\n",
    "lista = [10, 9, 10, 11, 12, 10, 9]\n",
    "\n",
    "while lista:\n",
    "    x = lista.pop()\n",
    "\n",
    "    # O operador de incremento += é equivalente a usar n = n + 1\n",
    "    n += 1 \n",
    "    soma += x\n",
    "    soma_quad += x**2\n",
    "    \n",
    "media = soma / n\n",
    "variancia = soma_quad / n - media**2\n",
    "print('media:', media)\n",
    "print('variância:', variancia)"
   ]
  },
  {
   "cell_type": "markdown",
   "metadata": {},
   "source": [
    "### Exercícios\n",
    "\n",
    "#### Q01-G1: Teste de idade\n",
    "\n",
    "Um site de emprego pede a idade dos usuários para classificá-los em 5 categorias diferentes: \n",
    "\n",
    "* **inválido:** Idades negativas ou maiores que 120 anos.\n",
    "* **bloqueado:** Usuários menores que 14 anos ou maiores que 80.\n",
    "* **aprendiz:** Entre 14 anos e 17.\n",
    "* **regular**: Usuários com 18 ou mais anos e menos de 64.\n",
    "* **idoso**: Usuários com 65 anos ou mais e menos que 80.\n",
    "\n",
    "Dada a variável idade, crie um código que imprime a categoria de acordo com a faixa etária fornecida pelo usuário."
   ]
  },
  {
   "cell_type": "code",
   "execution_count": null,
   "metadata": {},
   "outputs": [],
   "source": [
    "idade = 18\n",
    "\n",
    "# Complete o código com a execução condicional correta.\n",
    "# Lembre-se que seu código deve funcionar para qualquer valor de idade.\n",
    "if ...:\n",
    "    categoria = 'regular'\n",
    "...\n",
    "\n",
    "print('usuário está na categoria', categoria)"
   ]
  },
  {
   "cell_type": "markdown",
   "metadata": {},
   "source": [
    "#### Q01-G2: Collatz\n",
    "\n",
    "A conjectura de Collatz é muitas vezes conhecida como o problema em aberto mais simples de enunciar de toda a matemática. Tal conjectura diz que a sequência de Collatz associada a qualquer número natural sempre converge para 1, onde cada número da sequência é calculado a partir do valor n anterior pela seguinte fórmula:\n",
    "\n",
    "```python\n",
    "3 * n + 1   # se n for ímpar\n",
    "n // 2      # se n for par\n",
    "``` \n",
    "\n",
    "Até agora, todos os testes de força bruta confirmam a validade da conjectura de Collatz, mas ninguém conseguiu ainda provar se ela é realmente verdadeira para todos os números ou se apenas é verdadeira para os valores que conseguimos testar no computador.\n",
    "\n",
    "Crie um programa que calcula a sequência de Collatz a partir de um n qualquer. A resposta deve ser acumulada em uma lista. "
   ]
  },
  {
   "cell_type": "code",
   "execution_count": null,
   "metadata": {},
   "outputs": [],
   "source": [
    "n = 10\n",
    "collatz = [n]\n",
    "\n",
    "# Calcule os números da sequência e adicione-os na lista collatz\n",
    "...\n",
    "\n",
    "print(collatz)"
   ]
  },
  {
   "cell_type": "markdown",
   "metadata": {},
   "source": [
    "## Exercícios extra\n",
    "\n",
    "Faça quantos exercícios conseguir, mas espero para próxima ter conseguido pelo menos 1 exercício do Projeto Euler e outro do do Checkio. \n",
    "\n",
    "### Projeto Euler\n",
    "\n",
    "* https://projecteuler.net/problem=1\n",
    "* https://projecteuler.net/problem=2\n",
    "* https://projecteuler.net/problem=4\n",
    "* https://projecteuler.net/problem=5\n",
    "\n",
    "#### Desafios\n",
    "\n",
    "* https://projecteuler.net/problem=13\n",
    "* https://projecteuler.net/problem=6\n",
    "* https://projecteuler.net/problem=9\n",
    "* https://projecteuler.net/problem=8\n",
    "* https://projecteuler.net/problem=11\n",
    "* https://projecteuler.net/problem=14\n",
    "\n",
    "### Checkio\n",
    "* https://py.checkio.org/pt-br/mission/first-word/\n",
    "* https://py.checkio.org/pt-br/mission/even-last/\n",
    "* https://py.checkio.org/pt-br/mission/count-digits/\n",
    "* https://py.checkio.org/pt-br/mission/right-to-left/\n",
    "* https://py.checkio.org/pt-br/mission/three-words/\n",
    "* https://py.checkio.org/pt-br/mission/backward-each-word/\n",
    "* https://py.checkio.org/pt-br/mission/bigger-price/\n",
    "* https://py.checkio.org/pt-br/mission/split-list/\n",
    "* https://py.checkio.org/pt-br/mission/popular-words/\n",
    "* https://py.checkio.org/pt-br/mission/all-the-same/\n",
    "* https://py.checkio.org/pt-br/mission/second-index/\n",
    "\n",
    "#### Desafios\n",
    "\n",
    "* https://py.checkio.org/pt-br/mission/morse-decoder/\n",
    "* https://py.checkio.org/pt-br/mission/between-markers/\n",
    "* https://py.checkio.org/pt-br/mission/long-repeat/\n",
    "* https://py.checkio.org/pt-br/mission/time-converter-24h-to-12h/\n",
    "* https://py.checkio.org/pt-br/mission/bird-language/\n",
    "* https://py.checkio.org/pt-br/mission/sort-array-by-element-frequency/"
   ]
  },
  {
   "cell_type": "code",
   "execution_count": null,
   "metadata": {},
   "outputs": [],
   "source": []
  }
 ],
 "metadata": {
  "kernelspec": {
   "display_name": "Python 3",
   "language": "python",
   "name": "python3"
  },
  "language_info": {
   "codemirror_mode": {
    "name": "ipython",
    "version": 3
   },
   "file_extension": ".py",
   "mimetype": "text/x-python",
   "name": "python",
   "nbconvert_exporter": "python",
   "pygments_lexer": "ipython3",
   "version": "3.8.1"
  }
 },
 "nbformat": 4,
 "nbformat_minor": 4
}
