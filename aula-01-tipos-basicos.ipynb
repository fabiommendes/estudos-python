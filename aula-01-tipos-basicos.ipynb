{
 "cells": [
  {
   "cell_type": "markdown",
   "metadata": {},
   "source": [
    "# Introdução ao Python - Tipos Básicos\n",
    "\n",
    "## Números\n",
    "\n",
    "A forma mais simples de utilizar o Python é como uma calculadora avançada. Computadores, afinal, são poderosas máquinas de calcular e uma linguagem de programação permite utilizar toda essa capacidade. No entanto, vamos começar pelo simples, fazendo contas que talvez não sejam mais complicadas que o que conseguiríamos fazer na calculadora do computador ou do celular.\n",
    "\n",
    "O primeiro passo é abrir o Python. Se você tiver acesso ao terminal (por exemplo no Linux ou MacOS), basta digitar no prompt\n",
    "\n",
    "```\n",
    "$ python3\n",
    "```\n",
    "\n",
    "para abrir o terminal do Python. Usuários Windows também podem acessar o prompt de comandos digitando `tecla windows` + `R` e escrevendo o comando `cmd` ou navegando pelos menus até encontrar o ícone do Python.\n",
    "\n",
    "Você também pode utilizar uma plataforma de execução na nuvem como o Google Colab ou abrir este notebook localmente utilizando o Jupyter. Neste caso, cada célula de código funciona como uma lente para o interpretador Python e pode ser executada diretamente.\n",
    "\n",
    "Independentemente de como você preferir executar o interpretador, podemos usar o Python como uma calculadora simplesmente digitando expressões matemáticas:"
   ]
  },
  {
   "cell_type": "code",
   "execution_count": 2,
   "metadata": {},
   "outputs": [
    {
     "data": {
      "text/plain": [
       "50"
      ]
     },
     "execution_count": 2,
     "metadata": {},
     "output_type": "execute_result"
    }
   ],
   "source": [
    "40 + 10"
   ]
  },
  {
   "cell_type": "markdown",
   "metadata": {},
   "source": [
    "(modifique a expressão acima e obtenha outros resultados)\n",
    "\n",
    "Python aceita as quatro operações fundamentais, exponenciação e muitas outras operações avançadas. Mostramos alguns exemplos no quadro abaixo\n",
    "\n",
    "\n",
    "```python\n",
    "40 + 2  # Soma\n",
    "21 * 2  # Multiplicação\n",
    "50 - 8  # Subtração\n",
    "84 / 2  # Divisão\n",
    "```\n",
    "\n",
    "Além disto, podemos realizar exponenciação e obter o valor inteiro e o resto da divisão\n",
    "\n",
    "```python\n",
    "3 ** 2  # Exponenciação\n",
    "9 // 2  # Valor inteiro da divisão (4)\n",
    "9 % 2   # Resto da divisão (1)  \n",
    "```\n",
    "\n",
    "E finalmente, podemos agrupar as expressões com parênteses e definir variáveis\n",
    "\n",
    "```python\n",
    "(10 * 2 + 1) * 2\n",
    "x = 42\n",
    "x + 1\n",
    "```\n",
    "\n",
    "Experimente digitar cada uma destas linhas no terminal para verificar o resultado obtido. Não se limite ao copia e cola, digite versões das expressões com os números que você mais gosta e tente fazer variações com relação aos exemplos acima.\n",
    "\n",
    "Você deve perceber que algumas expressões retornam números inteiros e outras retornam números com parte decimal (como, por exemplo, ``3.14``). Esta diferença será importante mais adiante, mas por enquanto basta saber que o interpretador retorna o tipo que faz sentindo em cada situação e podemos misturar números inteiros e números com parte decimal livremente. \n",
    "\n",
    "Python também aceita números complexos, números racionais (frações), valores decimais e vários outros tipos numéricos para aplicações mais avançadas, mas isto é um assunto para outro dia."
   ]
  },
  {
   "cell_type": "markdown",
   "metadata": {},
   "source": [
    "### Exercício\n",
    "\n",
    "Imagine que a variável \"conta\" representa o valor total da conta do boteco e \"n\" o número de pessoas na mesa. Crie um programa que mostre quanto cada pessoa deveria pagar, depois de acrescentar o valor da gorjeta."
   ]
  },
  {
   "cell_type": "code",
   "execution_count": 5,
   "metadata": {},
   "outputs": [
    {
     "name": "stdout",
     "output_type": "stream",
     "text": [
      "Ellipsis\n"
     ]
    }
   ],
   "source": [
    "conta = 100\n",
    "n = 4\n",
    "valor_por_pessoa = ...  # Coloque a resposta aqui!\n",
    "print(valor_por_pessoa)"
   ]
  },
  {
   "cell_type": "markdown",
   "metadata": {},
   "source": [
    "## Strings\n",
    "\n",
    "O próximo tipo básico importante representa textos como uma sequência de caracteres. Damos o nome de \"strings\", que em Português seria traduzido como \"cadeia\" (no sentido de uma corrente, não de uma prisão), mas na realidade quase todo mundo usa mesmo o nome em inglês.\n",
    "\n",
    "Uma string é representada por um texto entre aspas:\n",
    "\n",
    "```python\n",
    "nome = \"João e Maria\"\n",
    "```\n",
    "\n",
    "Este texto pode conter letras, números, espaços, acentos e outros, mas alguns caracteres são representados de forma especial. Para começar, se o pŕoprio texto contiver aspas, devemos avisar o Python que ela não corresponde ao final da string. Isto é feito utilizando a barra como caracter de escape:\n",
    "\n",
    "```python\n",
    "mensagem = \"\\\"Do or do not, there is no try\\\" - Yoda\" \n",
    "```\n",
    "\n",
    "Deste modo, o computador entende que uma `\"` precedida de uma `\\` na verdade representa uma aspa no texto e não o fim da string. Existem vários caracteres especiais usando sequências de escape, citamos aqui alguns deles\n",
    "\n",
    "|Escape|Descrição|\n",
    "|------|---------|\n",
    "|`\\\"`|Aspa duplas|\n",
    "|`\\'`|Aspa simples|\n",
    "|`\\\\`|Barra|\n",
    "|`\\n`|Quebra de linha|\n",
    "|`\\t`|Tabulação|\n",
    "|`\\U0001F4A9`|Emoji (a partir de código unicode)|\n",
    "\n",
    "\n",
    "### Operações com strings\n",
    "\n",
    "Talvez a operação mais simples que podemos fazer com strings seja mostrá-las na tela. Para isso, usamos o comando `print` para mostrar o conteúdo do texto sem mostrar aspas nem sequências de escape.\n",
    "\n",
    "```python\n",
    "print(\"Hello World!\")\n",
    "```\n",
    "\n",
    "Isto mostrará a mensagem `Hello World` no terminal.\n",
    "\n",
    "\n",
    "Considere que `texto` seja uma variável que guarda uma string. Existem várias operações básicas disponíveis, das quais citamos apenas algumas das mais importantes.\n",
    "\n",
    "|Operação|Descrição|\n",
    "|--------|---------|\n",
    "|`texto1 + texto2`|Concatenação de strings|\n",
    "|`texto1 * n`|Concatena n cópias da string|\n",
    "|`print(texto)`|Mostra texto na tela|\n",
    "|`len(texto)`|Retorna tamanho da string|\n",
    "|`texto.upper()`|Converte string para maiúsculas|\n",
    "|`texto.lower()`|Converte string para minúsculas|\n",
    "|`texto.isupper()`|Verifica se todas letras são maiúsculas|\n",
    "|`texto.islower()`|Verifica se todas letras são minúsculas|\n",
    "|`texto.replace(a, b)`|Troca todas ocorrências de `a` por `b`|\n",
    "\n",
    "Veja que existem dois tipos de funções: aquelas que chamamos como `funcao(texto)` e as outras na forma `texto.funcao()`. As primeiras são funções genérica e geralmente funcionam em vários tipos diferentes, não se limitando às strings. Já a segunda forma é reservada para funções específicas de um determinado tipo e normalemente são referidas como métodos do tipo. Assim, podemos experar que `len(x)` funcione para qualquer tipo em que faz sentido definir uma noção de tamanho (strings, listas, conjuntos, etc). Já `x.lower()` é um método do tipo string e só faz sentido ser executado em variáveis que guardam texto. \n",
    "\n",
    "Essa distinção é um pouco confusa porque o Python não é muito rigoroso em como separa os dois tipos de função e muitas vezes a noção do que pode ser considerado uma função genérica e o que deve ser considerado específico de um determinado tipo é bastante arbitrária.\n",
    "\n",
    "\n",
    "### Índices e fatiamento\n",
    "\n",
    "Uma string pode ser pensada como uma sequência de caracteres (que por sua vez são strings de tamanho 1). Podemos encontrar os caracteres por posição ou extrair pedaços de strings utilizando a notação de indexação e fatiamento.\n",
    "\n",
    "Em Python, assim como na maioria das linguagens de programação, contamos a posição dos itens em uma sequência a partir do zero. Desta forma, o primeiro elemento está na posição zero o segundo na posição um e assim por diante. \n",
    "\n",
    "Deste modo, podemos associar cada posição a um número. Considere a string `texto = \"Hello\"`. Podemos acessar os elementos de diversas maneiras, todas utilizando alguma variação da notação com colchetes. \n",
    "\n",
    "|Operação|Descrição|\n",
    "|--------|---------|\n",
    "|`texto[0]`|Primeiro elemento, ou seja `H`|\n",
    "|`texto[1]`|Segundo elemento, ou seja `e`|\n",
    "|`texto[-1]`|Último elemento, ou seja `o`|\n",
    "|`texto[-2]`|Penúltimo elemento, ou seja `l`|\n",
    "|`texto[1:]`|Do segundo elemento em diante|\n",
    "|`texto[:3]`|Até o quarto elemento (sem incluí-lo)|\n",
    "|`texto[::2]`|String inteira, andando de dois em dois|\n",
    "|`texto[::-1]`|String inteira, invertendo a ordem dos elementos|\n",
    "\n",
    "\n",
    "### Exercícios\n",
    "\n",
    "Crie um programa que detecte se uma string `st` é um palíndromo. Uma string é considerada um palíndromo se for constituir a mesma sequência de letras quando lida de trás para frente. \n",
    "\n",
    "No teste, considere que espaços em branco e letras maiúsculas/minúsculas são irrelevantes."
   ]
  }
 ],
 "metadata": {
  "kernelspec": {
   "display_name": "Python 3",
   "language": "python",
   "name": "python3"
  },
  "language_info": {
   "codemirror_mode": {
    "name": "ipython",
    "version": 3
   },
   "file_extension": ".py",
   "mimetype": "text/x-python",
   "name": "python",
   "nbconvert_exporter": "python",
   "pygments_lexer": "ipython3",
   "version": "3.8.1"
  }
 },
 "nbformat": 4,
 "nbformat_minor": 2
}
