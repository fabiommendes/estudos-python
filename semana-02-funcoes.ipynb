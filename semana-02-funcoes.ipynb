{
 "cells": [
  {
   "cell_type": "markdown",
   "metadata": {},
   "source": [
    "# Introdução ao Python - organizando o código em funções\n",
    "\n",
    "\n",
    "Todos nós sabemos que no nível mais fundamental, o computador é apenas uma máquina de manipular zeros e uns. No entanto, quando usamos Python ou qualquer linguagem de alto nível, estes detalhes do funcionamento do computador não transparecem. Na verdade, fora algumas pouquíssimas exceções, trabalhamos com *abstrações*: de operações com bits, criamos operações aritiméticas para definir números. A partir de números, podemos representar letras, de letras textos, e assim por diante. \n",
    "\n",
    "Para sair da máquina que manipula zeros e uns para um computador moderno, é necessário um meio de reutilizar essas abstrações. Em quase todas linguagens de programação, a unidade básica de reaproveitamento de código é uma função. Podemos pensar numa função como uma sequência de instruções que pode ser reaproveitada facilmente sem precisar conhecer os detalhes de como as instruções internas foram implementadas. \n",
    "\n",
    "Vimos alguns exemplos de como chamar funções na aula anterior, mas aqui vamos voltar a eles com mais calma e explicar com mais detalhes como funciona o processo.\n",
    "\n",
    "Assim como qualquer outro valor, uma função em Python pode ser salva em variáveis e referenciada por um nome. Chamamos funções colocando um parênteses com todos os argumentos necessários após o nome da função. Por exemplo\n",
    "\n",
    "```python\n",
    "print(\"Hello\", \"World!\")\n",
    "```\n",
    "\n",
    "executa a função `print` com dois argumentos correspondente às strings `\"Hello\"` e `\"World!\"`. Mesmo funções que não possuem argumentos devem ser invocadas com parênteses, caso contrário o Python não irá executá-la.\n",
    "\n",
    "```python\n",
    "exit()   # Termina a execução de um programa. Se esquecer dos parênteses a função não executa!\n",
    "```\n",
    "\n",
    "Esta é a forma simples de passar argumentos para uma função. Python possui vários outros métodos que veremos mais adiante, mas agora basta conhecer uma segunda maneira importante de passar argumentos que é por nome e não por posição. A própria função print, por exemplo aceita alguns parâmetros adicionais por nome que influenciam na sua execução.\n",
    "\n",
    "```python\n",
    "print(\"Hello\", \"World!\", sep=\"-\")\n",
    "```\n",
    "\n",
    "No caso, passamos o argumento \"sep\" explicitamente por nome. Na função print, sep controla o texto inserido entre cada argumento da função e por padrão consiste num espaço em branco. Existem várias funções que possuem argumentos opcionais que podem ser passados por nome afetando a execução da função. \n",
    "\n",
    "\n",
    "## Funções internas\n",
    "\n",
    "Podemos descobrir todas as funções internas utilizando o comando `dir()`. Mas é fácil ver que esta lista de funções é grande demais para apreender em uma única tacada. A tabela abaixo mostra uma lista das principais funções internas do Python que podem ser utilizadas diretamente em praticamente qualquer parte do código.\n",
    "\n",
    "\n",
    "|Função|Descrição|\n",
    "|------|---------|\n",
    "|int(x)|Converte argumento para inteiro|\n",
    "|float(x)|Converte argumento para número com casas decimais|\n",
    "|list(x)|Converte argumento para lista|\n",
    "|tuple(x)|Converte argumento para tupla|\n",
    "|tuple(x)|Converte argumento para tupla|\n",
    "|abs(x)|Retorna valor absoluto de x|\n",
    "|help(x)|Mostra ajuda sobre função ou objeto|\n",
    "|len(xs)|Retorna tamanho da coleção xs|\n",
    "|max(xs)|Retorna maior valor da coleção xs|\n",
    "|max(a, b)|Retorna maior valor entre a e b|\n",
    "|min(xs)|Retorna menor valor da coleção xs|\n",
    "|min(a, b)|Retorna menor valor entre a e b|\n",
    "|round(x, prec)|Arredonda número x para precisão especificada|\n",
    "\n",
    "\n",
    "## Baterias inclusas\n",
    "\n",
    "Python se orgulha de ser uma linguagem com as \"baterias inclusas\". Isto significa que, além do núcleo da linguagem, o interpretador padrão instala várias outras bibliotecas úteis para diversas aplicações. Deste modo, a não ser que você tenha necessidades bastante específicas, existe uma boa chance de que Python puro já possua as funções necessárias para implementar um pequeno projeto de programação. \n",
    "\n",
    "Importamos bibliotecas utilizando uma das seguintes sintaxes \n",
    "\n",
    "```python\n",
    "import math\n",
    "from math import sin, cos, tan\n",
    "```\n",
    "\n",
    "Na primeira, importamos módulo math e todas as funções e objetos nele incluídos devem ser acessados com o prefixo `math.` como em `math.cos(math.pi) == -1.0`.  \n",
    "\n",
    "### Módulo math\n",
    "\n",
    "O módulo math possui funções matemáticas importantes como seno, coseno, raiz quadrada e outros.\n",
    "\n",
    "* Funções trigonométricas: sin, cos, tan, atan\n",
    "* Outras funções: exp, log, sqrt\n",
    "* Constantes: pi, e\n",
    "\n",
    "\n",
    "### Módulo random\n",
    "\n",
    "O módulo random possui funções para geração de números aleatórios. A mais básica delas, `random.random()` gera um valor aleatório de zero a 1. Existem outros métodos de geração de valores aleatórios mostrados na tabela abaixo.\n",
    "\n",
    "|Função|Descrição|\n",
    "|------|---------|\n",
    "|random()|Número entre zero e 1|\n",
    "|randint(a, b)|Número inteiro entre a e b|\n",
    "|randrange(a, b)|Número inteiro entre a e b, sem incluir b|\n",
    "|choice(xs)|Retorna elemento aleatório da coleção xs|\n",
    "\n",
    "\n",
    "### Módulo datetime\n",
    "\n",
    "Datetime trabalha com a representação de datas e horas em Python. Ainda que possa parecer relativamente simples implementar funções para manipular a lógica deste módulo, a realidade é bem mais complicada: meses com tamanhos diferentes, anos bisextos, diferenças na representação de data em vários países, tudo isso torna a implementação correta muito complicada. Melhor confiar que os desenvolvedores do Python fizeram um bom trabalho ;)\n",
    "\n",
    "|Função|Descrição|\n",
    "|------|---------|\n",
    "|date(ano, mes, dia)|Cria uma nova data|\n",
    "|datetime(ano, mes, dia, hora, minuto, ms)|Cria um objeto datetime|\n",
    "|time(hora, minuto, ms)|Representa uma hora, sem dia específico|\n",
    "|timedelta|Objeto resultante da subtração de duas datas ou horas|\n",
    "\n",
    "\n",
    "### Biblioteca padrão do Python\n",
    "\n",
    "A [documentação da biblioteca padrão](https://docs.python.org/3/library/) mostra todos os módulos presentes na biblioteca padrão junto com suas respectivas funcionalidades. São literalmente centenas de módulos, então não podemos passar aqui por todos eles. A tabela abaixo mostra alguns dos mais úteis junto com o link para a respectiva documentação.\n",
    "\n",
    "|Módulo|Descrição|\n",
    "|------|---------|\n",
    "|[argparse](https://docs.python.org/3/library/argparse.html)|Lê argumentos passados para scripts de forma robusta|\n",
    "|[collections](https://docs.python.org/3/library/collections.html)|Estruturas de dados úteis|\n",
    "|[copy](https://docs.python.org/3/library/copy.html)|Copia objetos arbitrários|\n",
    "|[functools](https://docs.python.org/3/library/functools.html)|Funções para manipular funções|\n",
    "|[itertools](https://docs.python.org/3/library/itertools.html)|Algoritmos de iteração em cima de sequências|\n",
    "|[math](https://docs.python.org/3/library/math.html)|Biblioteca de funções matemáticas|\n",
    "|[operator](https://docs.python.org/3/library/operator.html)|Operadores da linguagem como funções|\n",
    "|[os](https://docs.python.org/3/library/os.html)|Acessa funções de sistema em baixo nível|\n",
    "|[pathlib](https://docs.python.org/3/library/pathlib.html)|Representa caminhos no sistema de arquivos|\n",
    "|[pickle](https://docs.python.org/3/library/pickle.html)|Salva/lê objetos Python para arquivos|\n",
    "|[pprint](https://docs.python.org/3/library/pprint.html)|Representação melhorada (pretty) de objetos Python|\n",
    "|[random](https://docs.python.org/3/library/random.html)|Geração de números aleatórios|\n",
    "|[re](https://docs.python.org/3/library/re.html)|Expressões regulares|\n",
    "|[shelve](https://docs.python.org/3/library/shelve.html)|Banco de dados simples usado como dicionário|\n",
    "|[statistics](https://docs.python.org/3/library/statistics.html)|Estatística descritiva (médias, desvio padrão, etc)|\n",
    "|[sys](https://docs.python.org/3/library/sys.html)|Acessa configurações e propriedades do interpretador|\n",
    "|[time](https://docs.python.org/3/library/time.html)|Cronômetros e relógio do sistema|\n",
    "|[turtle](https://docs.python.org/3/library/turtle.html)|Módulo didático para ensinar lógica de programação com desenhos|\n",
    "\n",
    "\n",
    "## Criando funções\n",
    "\n",
    "Uma função em Python é criada com o comando \"def\". A sintaxe segue o padrão abaixo\n",
    "\n",
    "```python\n",
    "def nome_funcao(arg1, arg2):\n",
    "    ...\n",
    "    corpo_da_funcao\n",
    "```\n",
    "\n",
    "A palavra reservada \"def\" inicia a declaração da função e deve ser necessariamente seguida do nome e da lista de argumentos. Note que não existe limite para o número de argumentos. A função pode receber desde zero argumentos até centenas de argumentos. Em todo caso, o padrão segue o mesmo: abre parênteses e inclui os argumentos identificados pelo respectivo nome e separados por vírgulas.\n",
    "\n",
    "Lembre-se que a simples declaração de uma função não executa a lista de instruções no corpo da função. A idéia geral é que \"def\" simplesmente declara uma função que pode ser utilizada posteriormente várias vezes quando a chamarmos em um momento posterior no código.\n",
    "\n",
    "Por exemplo, o código abaixo aparentemente não faz nada:"
   ]
  },
  {
   "cell_type": "code",
   "execution_count": null,
   "metadata": {},
   "outputs": [],
   "source": [
    "def say_hello():\n",
    "    print(\"Hello World!\")\n",
    "    print(\"Olá mundo!\")\n",
    "    print(\"Ciao mondo!\")\n",
    "    print(\"Nǐ hǎo, shìjiè\")"
   ]
  },
  {
   "cell_type": "markdown",
   "metadata": {},
   "source": [
    "De fato, ela não mostra nenhuma mensagem na tela, mas produz um efeito importante. Depois de executar a célula, o Python cria uma função que executaria os 3 prints e salva na variável \"say_hello\". A partir de agora, podemos executar \"say_hello\" quantas vezes for necessário e cada execução percorrerá as instruções no corpo da função."
   ]
  },
  {
   "cell_type": "code",
   "execution_count": null,
   "metadata": {},
   "outputs": [],
   "source": [
    "say_hello()"
   ]
  },
  {
   "cell_type": "markdown",
   "metadata": {},
   "source": [
    "O exemplo de função acima não recebe nenhum argumento, o que acaba tornado-a bastante limitada. A função executa sempre exatamente o mesmo conjunto de instruções, sem variações. \n",
    "\n",
    "A maior parte das funções precisa ser executada com pequenas variações, já que normalmente queremos reaproveitar uma sequência de instruções, mas não de forma tão rígida. No exemplo abaixo, criamos uma função de 2 argumentos para dizer oi para uma pessoa específica, de uma idade específica."
   ]
  },
  {
   "cell_type": "code",
   "execution_count": null,
   "metadata": {},
   "outputs": [],
   "source": [
    "def say_hello_to(nome, idade):\n",
    "    print(\"Olá,\", nome + \"!\")\n",
    "    print(\"Bem vindo aos seus\", idade, \"anos!\")"
   ]
  },
  {
   "cell_type": "markdown",
   "metadata": {},
   "source": [
    "Assim como antes, executamos a função em um comando separado. Lembre-se que agora a função pede dois argumentos, que devem ser passados na ordem correta para a função durante a sua execução. Como o primeiro argumento representa o nome e o segundo a idade, chamamos a função assim"
   ]
  },
  {
   "cell_type": "code",
   "execution_count": null,
   "metadata": {},
   "outputs": [],
   "source": [
    "say_hello_to(\"Fábio\", 38)"
   ]
  },
  {
   "cell_type": "markdown",
   "metadata": {},
   "source": [
    "Durante a execução da função, o Python atribui o valor do primeiro argumento à variável \"nome\" no corpo da função e do segundo argumento à variável \"idade\". A partir daí, o interpretador executa cada uma das instruções no corpo da função e eventualmente pode retornar algum resultado.\n",
    "\n",
    "### Retorno da função\n",
    "\n",
    "Uma função no sentido matemático representa uma associação entre valores de entrada e os respectivos valores de saída. Algo como a função \"quadrado\" que mapeia 2 em 4, 3 em 9 e assim por diante. Desta forma, o que definiria uma função é este mapa entre os valores de entrada e os valores de saída. \n",
    "\n",
    "Os exemplos \"say_hello\" e \"say_hello_to\" são funções um pouco atípicas, já que não produzem valores de saída e são executadas meramente pelos efeitos colaterais de mostrar mensagens na tela. Sabemos que a função não produz saídas porque se salvarmos o resultado da execução em uma variável, o Python retornará o valor especial \"None\" que representa a ausência de valores. "
   ]
  },
  {
   "cell_type": "code",
   "execution_count": null,
   "metadata": {},
   "outputs": [],
   "source": [
    "saida = say_hello()\n",
    "print(saida)"
   ]
  },
  {
   "cell_type": "markdown",
   "metadata": {},
   "source": [
    "Lembre-se que as mensagens produzidas pelos comandos de \"print\" não são saídas da função no sentido de matemático que estamos usando aqui. Tais efeitos não são agregados como vlores não podem ser utilizados em variáveis ou reutilizados mais adiante por algum pedaço de código que chama a função. A função produz um efeito e pronto! Não podemos acessar o valor mostrado na tela nem passá-lo adiante para outras funções.\n",
    "\n",
    "O comando \"return\" serve justamente para anunciar o valor de saída de uma função. Isto é muito útil em funções que realizam algum tipo de cálculo a partir dos argumentos. Um bom exemplo seria a função fatorial definida abaixo"
   ]
  },
  {
   "cell_type": "code",
   "execution_count": 4,
   "metadata": {},
   "outputs": [],
   "source": [
    "def fatorial(n):\n",
    "    fat = 1                \n",
    "    for m in range(1, n + 1):  # produz os números de 1 até n\n",
    "        fat *= m\n",
    "    return fat"
   ]
  },
  {
   "cell_type": "markdown",
   "metadata": {},
   "source": [
    "Neste caso, vemos que ao chamar a função, ela produz um resultado"
   ]
  },
  {
   "cell_type": "code",
   "execution_count": 5,
   "metadata": {},
   "outputs": [
    {
     "name": "stdout",
     "output_type": "stream",
     "text": [
      "120\n"
     ]
    }
   ],
   "source": [
    "resultado = fatorial(5)\n",
    "print(resultado)"
   ]
  },
  {
   "cell_type": "markdown",
   "metadata": {},
   "source": [
    "## Recursão\n",
    "\n",
    "Recursão acontece quando uma função chama a si mesmo em algum ponto da implementação. Esta é uma técnica muito poderosa e está na base de vários algoritmos ou de implementações alternativas de algoritmos clássicos. É possível, por exemplo, substituir loops por recursão (ainda que o oposto nem sempre é verdadeiro). \n",
    "\n",
    "Em Python, recursão geralmente vem uma pequena penalidade de performance, mas muitas vezes permite representar alguns algoritmos de forma muito mais sucinta e legível. Deste modo, a utilização de uma abordagem recursiva ou não deve ser considerada com algum cuidado, principalmente em situações onde o grau de aninhamento pode ser muito grande.\n",
    "\n",
    "Considere o exemplo clássico do fatorial recursivo. Aqui, usamos a propriedade que `fat(n) = n * fat(n - 1)` para todo n > 1. Por exemplo, `fat(5) = 5 * 4 * 3 * 2 * 1`, o que é o mesmo que `5 * (4 * 3 * 2 * 1) = 5 * fat(4)`. Colocando isto em código, temos:"
   ]
  },
  {
   "cell_type": "code",
   "execution_count": 2,
   "metadata": {},
   "outputs": [],
   "source": [
    "def fat(n):\n",
    "    if n > 1:\n",
    "        return n * fat(n - 1)\n",
    "    else:\n",
    "        return 1"
   ]
  },
  {
   "cell_type": "markdown",
   "metadata": {},
   "source": [
    "Deste modo, para avaliar fat(5), por exemplo, o interpretador executará `5 * fat(4)` no primeiro ramo do  `if`, que por sua vez executará `fat(4) = 4 * fat(3)`, fazendo isto até chegar a `fat(2) = 2 * fat(1)` e durante a avaliação de `fat(1)`, tomamos o ramo com o else retornando o valor 1. Voltamos substituindo os valores na sequência inversa: `fat(1) = 1` leva a `fat(2) = 2 * 1 = 2`, `fat(3) = 3 * fat(2) = 3 * 2 = 6` até chegar a `fat(5) = 5 * fat(4) = 5 * 24 = 120`.\n",
    "\n",
    "Assim como na maioria das linguagens de programação, Python não exige nenhuma cerimônia especial para declarar recursões. Basta chamar a função no corpo como fizemos no exemplo acima. Devemos ficar atentos, no entanto, que recursões muito profundas podem estourar os limites de recursão da linguagem.\n",
    "\n",
    "Muitos algoritmos recursivos também se beneficiam da técnica de memorização, onde salvamos alguns valores já calculados em memória e reutilizamos estes resultados se a função for chamada novamente com os mesmos argumentos. A biblioteca padrão possui um algoritmo de memorização simples implementado. Isto pode aumentar muitas vezes a velocidade de execução de determinadas funções e diminuir ou eliminar as limitações com o limite de recursão."
   ]
  },
  {
   "cell_type": "code",
   "execution_count": 5,
   "metadata": {},
   "outputs": [
    {
     "name": "stdout",
     "output_type": "stream",
     "text": [
      "2.19 µs ± 334 ns per loop (mean ± std. dev. of 7 runs, 10000 loops each)\n",
      "107 ns ± 6.95 ns per loop (mean ± std. dev. of 7 runs, 10000 loops each)\n"
     ]
    }
   ],
   "source": [
    "from functools import lru_cache\n",
    "\n",
    "\n",
    "@lru_cache(256)  # Tamanho do dicionário que armazena os resultados calculados\n",
    "def fat_memo(n):\n",
    "    if n > 1:\n",
    "        return n * fat_memo(n - 1)\n",
    "    else:\n",
    "        return 1\n",
    "    \n",
    "%timeit -n 10000 fat(10)\n",
    "%timeit -n 10000 fat_memo(10)"
   ]
  },
  {
   "cell_type": "markdown",
   "metadata": {},
   "source": [
    "## Argumentos opcionais\n",
    "\n",
    "É possível declarar argumentos opcionais em funções Python. Estes são argumentos que possuem um valor padrão que pode ser alterado explicitamente ao chamar a função e controlar algum aspecto da sua execução. Argumentos opcionais são úteis quando não queremos forçar o usuário passar explicitamente valores muito típicos de um argumento quando chamarem a função.\n",
    "\n",
    "Considere o exemplo da função abaixo que calcula a conta de um bar ou restaurante por pessoa."
   ]
  },
  {
   "cell_type": "code",
   "execution_count": 7,
   "metadata": {},
   "outputs": [
    {
     "name": "stdout",
     "output_type": "stream",
     "text": [
      "Caso 1: 27.500000000000004\n",
      "Caso 2: 30.0\n"
     ]
    }
   ],
   "source": [
    "def conta(valor, n_pessoas, gorjeta=0.10):\n",
    "    return valor * (1 + gorjeta) / n_pessoas\n",
    "\n",
    "print('Caso 1:', conta(100, 4))               # Gorjeta padrão\n",
    "print('Caso 2:', conta(100, 4, gorjeta=0.2))  # Adoramos o garçom! "
   ]
  },
  {
   "cell_type": "markdown",
   "metadata": {},
   "source": [
    "Observe como no primeiro caso (com gorjeta de 10%), não foi necessário passar o valor da gorjeta para a função explicitamente. Somente nas situações especiais onde queremos aplicar uma gorjeta diferente dos 10% usuais, que incluímos o argumento gorjeta explicitamente na chamada da função."
   ]
  },
  {
   "cell_type": "markdown",
   "metadata": {},
   "source": [
    "## Empacotando e desempacotando argumentos\n",
    "\n",
    "Argumentos de uma função podem ser passados a partir de uma lista ou dicionário de argumentos. Considere a função max: podemos chamá-la com vários argumentos e a função retornará o maior destes argumentos. Algo como `max(a, b, c)` retorna o maior valor entre a, b e c. Em muitas situações, temos estes argumentos salvos em listas e ainda que seja simples passá-los para uma função, o resultado talvez não seja a mais elegante o possível. "
   ]
  },
  {
   "cell_type": "code",
   "execution_count": 8,
   "metadata": {},
   "outputs": [
    {
     "data": {
      "text/plain": [
       "42"
      ]
     },
     "execution_count": 8,
     "metadata": {},
     "output_type": "execute_result"
    }
   ],
   "source": [
    "args = [10, 42, 0]\n",
    "max(args[0], args[1], args[2])"
   ]
  },
  {
   "cell_type": "markdown",
   "metadata": {},
   "source": [
    "O Python permite desempacotar uma lista de argumentos diretamente na chamada de função usando a sintaxe com asterisco. Muito mais elegante e eficaz!"
   ]
  },
  {
   "cell_type": "code",
   "execution_count": 10,
   "metadata": {},
   "outputs": [
    {
     "data": {
      "text/plain": [
       "42"
      ]
     },
     "execution_count": 10,
     "metadata": {},
     "output_type": "execute_result"
    }
   ],
   "source": [
    "max(*args)   # igual a max(args[0], args[1], args[2], ...)"
   ]
  },
  {
   "cell_type": "markdown",
   "metadata": {},
   "source": [
    "Esta não é uma propriedade particular da função max(). Qualquer função Python aceita esta sintaxe, mesmo que não tenha sido feita explicitamente para isto."
   ]
  },
  {
   "cell_type": "code",
   "execution_count": 12,
   "metadata": {},
   "outputs": [
    {
     "name": "stdout",
     "output_type": "stream",
     "text": [
      "5.0\n",
      "5.0\n"
     ]
    }
   ],
   "source": [
    "import math\n",
    "\n",
    "def hipotenusa(a, b):\n",
    "    return math.sqrt(a**2 + b**2)\n",
    "\n",
    "args = [3, 4]\n",
    "print(hipotenusa(3, 4))\n",
    "print(hipotenusa(*args))"
   ]
  },
  {
   "cell_type": "markdown",
   "metadata": {},
   "source": [
    "Da mesma forma que podemos desempacotar listas para passar argumentos por posição, também podemos desempacotar dicionários para passar argumentos pelo nome. Para diferenciar os dois casos, o desempacotamento de dicinários pede dois asteriscos antes do nome da variável."
   ]
  },
  {
   "cell_type": "code",
   "execution_count": 13,
   "metadata": {},
   "outputs": [
    {
     "data": {
      "text/plain": [
       "5.0"
      ]
     },
     "execution_count": 13,
     "metadata": {},
     "output_type": "execute_result"
    }
   ],
   "source": [
    "kwargs = {'a': 3, 'b': 4}\n",
    "hipotenusa(**kwargs)"
   ]
  },
  {
   "cell_type": "markdown",
   "metadata": {},
   "source": [
    "Assim como podemos desempacotar argumentos ao chamar uma função, podemos re-empacotar argumentos durante a definição de uma função para capturar argumentos adicionais passados tanto por posição quanto por nome. Isto é feito usando a sintaxe com asteriscos na declaração de uma função. "
   ]
  },
  {
   "cell_type": "code",
   "execution_count": 14,
   "metadata": {},
   "outputs": [
    {
     "data": {
      "text/plain": [
       "6"
      ]
     },
     "execution_count": 14,
     "metadata": {},
     "output_type": "execute_result"
    }
   ],
   "source": [
    "def soma_pares(*args):  # Captura todos os argumentos passados por posição\n",
    "    soma = 0\n",
    "    for n in args:\n",
    "        if n % 2 == 0:\n",
    "            soma += n\n",
    "    return soma\n",
    "\n",
    "soma_pares(1, 2, 3, 4, 5)"
   ]
  },
  {
   "cell_type": "markdown",
   "metadata": {},
   "source": [
    "No exemplo acima, a função soma_pares aceita qualquer número de argumentos inteiros e soma aqueles que são números pares. Declaramos que ela aceita um número variável de argumentos colocando o asterisco na variável args. Isto faz com que ao invés de receber o valor do primeiro argumento, args recebe uma tupla com todos os argumentos passados para função a partir daquela posição.\n",
    "\n",
    "Também é possível capturar argumentos por nome colocando `**kwargs` no final da lista de argumentos da função. Isto captura todos os argumentos adicionais passados por nome em um dicionário. O padrão de capturar todos os argumentos por posição e nome é muito útil para criar funções que manipulam outras funções. \n",
    "\n",
    "\n",
    "### Decoradores\n",
    "\n",
    "Terminamos o tutorial da semana com um exemplo com um certo potencial de dar nó na cabeça. Vamos criar uma função que transforma outras funções. No nosso exemplo meio artificial, criaremos uma função transforma uma função numérica para que todos valores passados para ela sejam convertidos para valores positivos. Desta forma, se transformarmos a função raiz quadrada deste modo, teremos uma função que aceita valores negativos e executa a raiz quadrada tirando simplesmente o módulo deste valor. Nosso grande desafio aqui é fazer esta transformação funcionar para qualquer função com qualquer número de argumentos, passados \n",
    "tanto por posição quanto por nome.\n",
    "\n",
    "A estratégia geral é criar uma função transformadora \"para_positivo(func)\" que recebe uma função, declara a função transformada internamente e retorna este valor. Para funções de um único argumento, o resultado seria algo como"
   ]
  },
  {
   "cell_type": "code",
   "execution_count": 16,
   "metadata": {},
   "outputs": [
    {
     "data": {
      "text/plain": [
       "1.4142135623730951"
      ]
     },
     "execution_count": 16,
     "metadata": {},
     "output_type": "execute_result"
    }
   ],
   "source": [
    "from math import sqrt\n",
    "\n",
    "\n",
    "def para_positivo(func):\n",
    "    \n",
    "    def transformado(x):\n",
    "        return func(abs(x))\n",
    "    \n",
    "    return transformado\n",
    "\n",
    "sqrt_pos = para_positivo(sqrt)\n",
    "sqrt_pos(-2)"
   ]
  },
  {
   "cell_type": "markdown",
   "metadata": {},
   "source": [
    "Vamos generalizar esta idéia para funções de qualquer número de argumentos. Para isto, usaremos o `*args` e `**kwargs` mencionados anteriormente."
   ]
  },
  {
   "cell_type": "code",
   "execution_count": 18,
   "metadata": {},
   "outputs": [
    {
     "data": {
      "text/plain": [
       "1.4142135623730951"
      ]
     },
     "execution_count": 18,
     "metadata": {},
     "output_type": "execute_result"
    }
   ],
   "source": [
    "def para_positivo(func):\n",
    "    \n",
    "    def transformado(*args, **kwargs):\n",
    "        pos_args = map(abs, args)   # map aplica abs em cada elemento de args\n",
    "        \n",
    "        # Construímos o dicionário de argumentos posicionais explicitamente\n",
    "        pos_kwargs = {}\n",
    "        for k, v in kwargs.items():  # dict.items() retorna a lista de pares (chave, valor)\n",
    "            pos_kwargs[k] = abs(v)\n",
    "            \n",
    "        # Desempacotamos os novos argumentos ao chamar a função original\n",
    "        return func(*pos_args, **pos_kwargs)\n",
    "    \n",
    "    return transformado\n",
    "\n",
    "sqrt_pos = para_positivo(sqrt)\n",
    "sqrt_pos(-2)"
   ]
  },
  {
   "cell_type": "markdown",
   "metadata": {},
   "source": [
    "Este tipo de função que transforma uma função na outra aparece com tanta frequência que o Python introduziu uma sintaxe especial para lidar com elas. Se o objetivo for transformar uma função imediatamente durante a sua criação, podemos utilizar a sintaxe de \"decoradores\" abaixo.\n",
    "\n",
    "```python\n",
    "@para_positivo\n",
    "def soma(a, b):\n",
    "    return a + b\n",
    "\n",
    "# Mesma coisa que\n",
    "def soma(a, b):\n",
    "    return a + b\n",
    "\n",
    "soma = para_positivo(soma)\n",
    "```\n",
    "\n",
    "Complexo, né? Depois que esfriar um pouco a cabeça de tantas funções, você consegue implementar a função para_positivo(func) em uma única linha?"
   ]
  }
 ],
 "metadata": {
  "kernelspec": {
   "display_name": "Python 3",
   "language": "python",
   "name": "python3"
  },
  "language_info": {
   "codemirror_mode": {
    "name": "ipython",
    "version": 3
   },
   "file_extension": ".py",
   "mimetype": "text/x-python",
   "name": "python",
   "nbconvert_exporter": "python",
   "pygments_lexer": "ipython3",
   "version": "3.8.5"
  }
 },
 "nbformat": 4,
 "nbformat_minor": 4
}
