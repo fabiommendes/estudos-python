{
 "cells": [
  {
   "cell_type": "markdown",
   "metadata": {},
   "source": [
    "# Introdução ao Python - organizando o código em funções\n",
    "\n",
    "\n",
    "Todos nós sabemos que no nível mais fundamental, o computador é apenas uma máquina de manipular zeros e uns. No entanto, quando usamos Python ou qualquer linguagem de alto nível, estes detalhes do funcionamento do computador não transparecem. Na verdade, fora algumas pouquíssimas exceções, trabalhamos com *abstrações*: de operações com bits, criamos operações aritiméticas para definir números. A partir de números, podemos representar letras, de letras textos, e assim por diante. \n",
    "\n",
    "Para sair da máquina que manipula zeros e uns para um computador moderno, é necessário um meio de reutilizar essas abstrações. Em quase todas linguagens de programação, a unidade básica de reaproveitamento de código é uma função. Podemos pensar numa função como uma sequência de instruções que pode ser reaproveitada facilmente sem precisar conhecer os detalhes de como as instruções internas foram implementadas. \n",
    "\n",
    "Vimos alguns exemplos de como chamar funções na aula anterior, mas aqui vamos voltar a eles com mais calma e explicar com mais detalhes como funciona o processo.\n",
    "\n",
    "Assim como qualquer outro valor, uma função em Python pode ser salva em variáveis e referenciada por um nome. Chamamos funções colocando um parênteses com todos os argumentos necessários após o nome da função. Por exemplo\n",
    "\n",
    "```python\n",
    "print(\"Hello\", \"World!\")\n",
    "```\n",
    "\n",
    "executa a função `print` com dois argumentos correspondente às strings `\"Hello\"` e `\"World!\"`. Mesmo funções que não possuem argumentos devem ser invocadas com parênteses, caso contrário o Python não irá executá-la.\n",
    "\n",
    "```python\n",
    "exit()   # Termina a execução de um programa. Se esquecer dos parênteses a função não executa!\n",
    "```\n",
    "\n",
    "Esta é a forma simples de passar argumentos para uma função. Python possui vários outros métodos que veremos mais adiante, mas agora basta conhecer uma segunda maneira importante de passar argumentos que é por nome e não por posição. A própria função print, por exemplo aceita alguns parâmetros adicionais por nome que influenciam na sua execução.\n",
    "\n",
    "```python\n",
    "print(\"Hello\", \"World!\", sep=\"-\")\n",
    "```\n",
    "\n",
    "No caso, passamos o argumento \"sep\" explicitamente por nome. Na função print, sep controla o texto inserido entre cada argumento da função e por padrão consiste num espaço em branco. Existem várias funções que possuem argumentos opcionais que podem ser passados por nome afetando a execução da função. \n",
    "\n",
    "\n",
    "## Funções internas\n",
    "\n",
    "Podemos descobrir todas as funções internas utilizando o comando `dir()`. Mas é fácil ver que esta lista de funções é grande demais para apreender em uma única tacada. A tabela abaixo mostra uma lista das principais funções internas do Python que podem ser utilizadas diretamente em praticamente qualquer parte do código.\n",
    "\n",
    "\n",
    "|Função|Descrição|\n",
    "|------|---------|\n",
    "|int(x)|Converte argumento para inteiro|\n",
    "|float(x)|Converte argumento para número com casas decimais|\n",
    "|list(x)|Converte argumento para lista|\n",
    "|tuple(x)|Converte argumento para tupla|\n",
    "|tuple(x)|Converte argumento para tupla|\n",
    "|abs(x)|Retorna valor absoluto de x|\n",
    "|help(x)|Mostra ajuda sobre função ou objeto|\n",
    "|len(xs)|Retorna tamanho da coleção xs|\n",
    "|max(xs)|Retorna maior valor da coleção xs|\n",
    "|max(a, b)|Retorna maior valor entre a e b|\n",
    "|min(xs)|Retorna menor valor da coleção xs|\n",
    "|min(a, b)|Retorna menor valor entre a e b|\n",
    "|round(x, prec)|Arredonda número x para precisão especificada|\n",
    "\n",
    "\n",
    "## Baterias inclusas\n",
    "\n",
    "Python se orgulha de ser uma linguagem com as \"baterias inclusas\". Isto significa que, além do núcleo da linguagem, o interpretador padrão instala várias outras bibliotecas úteis para diversas aplicações. Deste modo, a não ser que você tenha necessidades bastante específicas, existe uma boa chance de que Python puro já possua as funções necessárias para implementar um pequeno projeto de programação. \n",
    "\n",
    "Importamos bibliotecas utilizando uma das seguintes sintaxes \n",
    "\n",
    "```python\n",
    "import math\n",
    "from math import sin, cos, tan\n",
    "```\n",
    "\n",
    "Na primeira, importamos módulo math e todas as funções e objetos nele incluídos devem ser acessados com o prefixo `math.` como em `math.cos(math.pi) == -1.0`.  \n",
    "\n",
    "### Módulo math\n",
    "\n",
    "O módulo math possui funções matemáticas importantes como seno, coseno, raiz quadrada e outros.\n",
    "\n",
    "* Funções trigonométricas: sin, cos, tan, atan\n",
    "* Outras funções: exp, log, sqrt\n",
    "* Constantes: pi, e\n",
    "\n",
    "\n",
    "### Módulo random\n",
    "\n",
    "O módulo random possui funções para geração de números aleatórios. A mais básica delas, `random.random()` gera um valor aleatório de zero a 1. Existem outros métodos de geração de valores aleatórios mostrados na tabela abaixo.\n",
    "\n",
    "|Função|Descrição|\n",
    "|------|---------|\n",
    "|random()|Número entre zero e 1|\n",
    "|randint(a, b)|Número inteiro entre a e b|\n",
    "|randrange(a, b)|Número inteiro entre a e b, sem incluir b|\n",
    "|choice(xs)|Retorna elemento aleatório da coleção xs|\n",
    "\n",
    "\n",
    "### Módulo datetime\n",
    "\n",
    "Datetime trabalha com a representação de datas e horas em Python. Ainda que possa parecer relativamente simples implementar funções para manipular a lógica deste módulo, a realidade é bem mais complicada: meses com tamanhos diferentes, anos bisextos, diferenças na representação de data em vários países, tudo isso torna a implementação correta muito complicada. Melhor confiar que os desenvolvedores do Python fizeram um bom trabalho ;)\n",
    "\n",
    "|Função|Descrição|\n",
    "|------|---------|\n",
    "|date(ano, mes, dia)|Cria uma nova data|\n",
    "|datetime(ano, mes, dia, hora, minuto, ms)|Cria um objeto datetime|\n",
    "|time(hora, minuto, ms)|Representa uma hora, sem dia específico|\n",
    "|timedelta|Objeto resultante da subtração de duas datas ou horas|\n",
    "\n",
    "\n",
    "### Biblioteca padrão do Python\n",
    "\n",
    "...\n",
    "\n",
    "## Criando funções\n",
    "\n",
    "Uma função em Python é criada com o comando \"def\". A sintaxe segue o padrão abaixo\n",
    "\n",
    "```python\n",
    "def nome_funcao(arg1, arg2):\n",
    "    ...\n",
    "    corpo_da_funcao\n",
    "```\n",
    "\n",
    "A palavra reservada \"def\" inicia a declaração da função e deve ser necessariamente seguida do nome e da lista de argumentos. Note que não existe limite para o número de argumentos. A função pode receber desde zero argumentos até centenas de argumentos. Em todo caso, o padrão segue o mesmo: abre parênteses e inclui os argumentos identificados pelo respectivo nome e separados por vírgulas.\n",
    "\n",
    "Lembre-se que a simples declaração de uma função não executa a lista de instruções no corpo da função. A idéia geral é que \"def\" simplesmente declara uma função que pode ser utilizada posteriormente várias vezes quando a chamarmos em um momento posterior no código.\n",
    "\n",
    "Por exemplo, o código abaixo aparentemente não faz nada:"
   ]
  },
  {
   "cell_type": "code",
   "execution_count": null,
   "metadata": {},
   "outputs": [],
   "source": [
    "def say_hello():\n",
    "    print(\"Hello World!\")\n",
    "    print(\"Olá mundo!\")\n",
    "    print(\"Ciao mondo!\")\n",
    "    print(\"Nǐ hǎo, shìjiè\")"
   ]
  },
  {
   "cell_type": "markdown",
   "metadata": {},
   "source": [
    "De fato, ela não mostra nenhuma mensagem na tela, mas produz um efeito importante. Depois de executar a célula, o Python cria uma função que executaria os 3 prints e salva na variável \"say_hello\". A partir de agora, podemos executar \"say_hello\" quantas vezes for necessário e cada execução percorrerá as instruções no corpo da função."
   ]
  },
  {
   "cell_type": "code",
   "execution_count": null,
   "metadata": {},
   "outputs": [],
   "source": [
    "say_hello()"
   ]
  },
  {
   "cell_type": "markdown",
   "metadata": {},
   "source": [
    "O exemplo de função acima não recebe nenhum argumento, o que acaba tornado-a bastante limitada. A função executa sempre exatamente o mesmo conjunto de instruções, sem variações. \n",
    "\n",
    "A maior parte das funções precisa ser executada com pequenas variações, já que normalmente queremos reaproveitar uma sequência de instruções, mas não de forma tão rígida. No exemplo abaixo, criamos uma função de 2 argumentos para dizer oi para uma pessoa específica, de uma idade específica."
   ]
  },
  {
   "cell_type": "code",
   "execution_count": null,
   "metadata": {},
   "outputs": [],
   "source": [
    "def say_hello_to(nome, idade):\n",
    "    print(\"Olá,\", nome + \"!\")\n",
    "    print(\"Bem vindo aos seus\", idade, \"anos!\")"
   ]
  },
  {
   "cell_type": "markdown",
   "metadata": {},
   "source": [
    "Assim como antes, executamos a função em um comando separado. Lembre-se que agora a função pede dois argumentos, que devem ser passados na ordem correta para a função durante a sua execução. Como o primeiro argumento representa o nome e o segundo a idade, chamamos a função assim"
   ]
  },
  {
   "cell_type": "code",
   "execution_count": null,
   "metadata": {},
   "outputs": [],
   "source": [
    "say_hello_to(\"Fábio\", 38)"
   ]
  },
  {
   "cell_type": "markdown",
   "metadata": {},
   "source": [
    "Durante a execução da função, o Python atribui o valor do primeiro argumento à variável \"nome\" no corpo da função e do segundo argumento à variável \"idade\". A partir daí, o interpretador executa cada uma das instruções no corpo da função e eventualmente pode retornar algum resultado.\n",
    "\n",
    "### Retorno da função\n",
    "\n",
    "Uma função no sentido matemático representa uma associação entre valores de entrada e os respectivos valores de saída. Algo como a função \"quadrado\" que mapeia 2 em 4, 3 em 9 e assim por diante. Desta forma, o que definiria uma função é este mapa entre os valores de entrada e os valores de saída. \n",
    "\n",
    "Os exemplos \"say_hello\" e \"say_hello_to\" são funções um pouco atípicas, já que não produzem valores de saída e são executadas meramente pelos efeitos colaterais de mostrar mensagens na tela. Sabemos que a função não produz saídas porque se salvarmos o resultado da execução em uma variável, o Python retornará o valor especial \"None\" que representa a ausência de valores. "
   ]
  },
  {
   "cell_type": "code",
   "execution_count": null,
   "metadata": {},
   "outputs": [],
   "source": [
    "saida = say_hello()\n",
    "print(saida)"
   ]
  },
  {
   "cell_type": "markdown",
   "metadata": {},
   "source": [
    "Lembre-se que as mensagens produzidas pelos comandos de \"print\" não são saídas da função no sentido de matemático que estamos usando aqui. Tais efeitos não são agregados como vlores não podem ser utilizados em variáveis ou reutilizados mais adiante por algum pedaço de código que chama a função. A função produz um efeito e pronto! Não podemos acessar o valor mostrado na tela nem passá-lo adiante para outras funções.\n",
    "\n",
    "O comando \"return\" serve justamente para anunciar o valor de saída de uma função. Isto é muito útil em funções que realizam algum tipo de cálculo a partir dos argumentos. Um bom exemplo seria a função fatorial definida abaixo"
   ]
  },
  {
   "cell_type": "code",
   "execution_count": 4,
   "metadata": {},
   "outputs": [],
   "source": [
    "def fatorial(n):\n",
    "    fat = 1                \n",
    "    for m in range(1, n + 1):  # produz os números de 1 até n\n",
    "        fat *= m\n",
    "    return fat"
   ]
  },
  {
   "cell_type": "markdown",
   "metadata": {},
   "source": [
    "Neste caso, vemos que ao chamar a função, ela produz um resultado"
   ]
  },
  {
   "cell_type": "code",
   "execution_count": 5,
   "metadata": {},
   "outputs": [
    {
     "name": "stdout",
     "output_type": "stream",
     "text": [
      "120\n"
     ]
    }
   ],
   "source": [
    "resultado = fatorial(5)\n",
    "print(resultado)"
   ]
  },
  {
   "cell_type": "markdown",
   "metadata": {},
   "source": [
    "## Recursão\n",
    "\n",
    "\n",
    "\n",
    "## Argumentos opcionais\n",
    "\n",
    "## Abrindo argumentos"
   ]
  }
 ],
 "metadata": {
  "kernelspec": {
   "display_name": "Python 3",
   "language": "python",
   "name": "python3"
  },
  "language_info": {
   "codemirror_mode": {
    "name": "ipython",
    "version": 3
   },
   "file_extension": ".py",
   "mimetype": "text/x-python",
   "name": "python",
   "nbconvert_exporter": "python",
   "pygments_lexer": "ipython3",
   "version": "3.8.5"
  }
 },
 "nbformat": 4,
 "nbformat_minor": 4
}
