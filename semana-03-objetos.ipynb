{
 "cells": [
  {
   "cell_type": "markdown",
   "metadata": {},
   "source": [
    "## Introdução ao Python - orientação a objetos\n",
    "\n",
    "Aprendemos até o momento a utilizar alguns tipos básicos do Python como números, listas, dicionários e strings. Estes tipos, sozinhos, já formam um repertório bastante versátil e podem ser utilizados na resolução de vários problemas. No entanto, não são balas de prata: toda linguagem de programação que se preze deve ser capaz de ser extendida com tipos de dados criados pelo usuário.\n",
    "\n",
    "Em Python, novos tipos podem corresponder tanto a alterações relativamente pequenas em tipos existentes, quanto representar estruturas de dados ou objetos completamente diferentes dos tipos nativos. O mecanismo usado para criar novos tipos em Python é o de herança, o que é a base do conceito de orientação a objetos.\n",
    "\n",
    "Antes de explicar como criamos novos tipos, vamos entender melhor como o sistema de herança funciona em Python. Todo objeto na linguagem possui um tipo específico que pode ser acessado a partir da função `type` "
   ]
  },
  {
   "cell_type": "code",
   "execution_count": 2,
   "metadata": {},
   "outputs": [
    {
     "data": {
      "text/plain": [
       "int"
      ]
     },
     "execution_count": 2,
     "metadata": {},
     "output_type": "execute_result"
    }
   ],
   "source": [
    "var = 42   # Altere este valor para outros valores!\n",
    "type(var)"
   ]
  },
  {
   "cell_type": "markdown",
   "metadata": {},
   "source": [
    "Daí vemos que o tipo do valor 42 é int. Quando dizemos que todo valor possui um tipo, não estamos exagerando. Se você ainda não fez o teste, tente digitar `type(type)`. O resultado é `type`, que é o mesmo de `type(str)`, `type(int)` ou o tipo de qualquer outro tipo. Isto mostra que a função type não é exatamente uma função, mas um objeto que representa o tipo dos outros tipos.\n",
    "\n",
    "Apesar de `type(valor)` retornar o tipo de um valor, este não é considerado o modo correto de testar se uma variável é de um determinado tipo. Isto porque em Python podemos criar sub-tipos. Por exemplo, poderíamos criar um sub-tipo de lista que só aceita inteiros. Ainda que um valor deste tipo seja uma lista, `type(int_list)` não seria `list` e sim o tipo `IntList` que criamos. Por isto, usamos a função `isinstance` para testar se um valor é um exemplo (ou instância) de um determinado tipo.\n",
    "\n",
    "\n"
   ]
  },
  {
   "cell_type": "code",
   "execution_count": 5,
   "metadata": {},
   "outputs": [
    {
     "data": {
      "text/plain": [
       "[True, True, False]"
      ]
     },
     "execution_count": 5,
     "metadata": {},
     "output_type": "execute_result"
    }
   ],
   "source": [
    "# Alguns exemplos de testes de tipos\n",
    "[isinstance(42, int), isinstance(\"Hello\", str), isinstance(42, float)]"
   ]
  },
  {
   "cell_type": "markdown",
   "metadata": {},
   "source": [
    "O fato é que, ainda que um valor tenha apenas um tipo, ele pode ser instância de vários outros tipos, desde que estes tipos estejam em uma hierarquia. Quanse todos os tipos nativos do Python possuem uma hierarquia bem chata e talvez esta observação não seja muito pertinente. Uma excessão importante são variáveis do tipo `bool`, já que elas também são consideradas inteiros (com True sendo equivalente a um e False a zero).\n",
    "\n",
    "Podemos verificar isto imprimindo o tipo e alguns testes de instância em variáveis booleanas."
   ]
  },
  {
   "cell_type": "code",
   "execution_count": 8,
   "metadata": {},
   "outputs": [
    {
     "name": "stdout",
     "output_type": "stream",
     "text": [
      "Tipo: <class 'bool'>\n",
      "Instância de bool: True\n",
      "Instância de int: True\n"
     ]
    }
   ],
   "source": [
    "value = True\n",
    "print('Tipo:', type(value))\n",
    "print('Instância de bool:', isinstance(value, bool))\n",
    "print('Instância de int:', isinstance(value, int))"
   ]
  },
  {
   "cell_type": "markdown",
   "metadata": {},
   "source": [
    "O fato de True e False serem inteiros pode parecer um pouco surpreendente. No entanto, ao associarmos True e False à 1 e 0, vemos que podemos utilizá-los em qualquer contexto onde Python esperaria um número inteiro."
   ]
  },
  {
   "cell_type": "code",
   "execution_count": 10,
   "metadata": {},
   "outputs": [
    {
     "data": {
      "text/plain": [
       "[42, 1, 'hello']"
      ]
     },
     "execution_count": 10,
     "metadata": {},
     "output_type": "execute_result"
    }
   ],
   "source": [
    "ns = [1, 2, 3]\n",
    "[41 + True, ns[False], \"hello\" * True]"
   ]
  },
  {
   "cell_type": "markdown",
   "metadata": {},
   "source": [
    "Dizemos então que `bool` é um sub-tipo (ou sub-classe) de `int`. De fato, podemos criar sub-classes de qualquer tipo e mesmo sub-classes de sub-classes. A base da hierarquia de classes de qualquer valor em Python é o tipo \"object\". Assim, podemos dizer que o valor True é um bool, ou int ou mesmo um object. De fato, podemos verificar que qualquer valor em Python é uma instância de object."
   ]
  },
  {
   "cell_type": "code",
   "execution_count": 11,
   "metadata": {},
   "outputs": [
    {
     "data": {
      "text/plain": [
       "True"
      ]
     },
     "execution_count": 11,
     "metadata": {},
     "output_type": "execute_result"
    }
   ],
   "source": [
    "all(isinstance(x, object) for x in [42, \"string!\", [\"lista\"], object, type])"
   ]
  },
  {
   "cell_type": "markdown",
   "metadata": {},
   "source": [
    "Pode parecer que instâncias de object são um pouco inúteis: elas não possui nenhum valor ou função associado e não fazem absolutamente nada de especial. No entanto, object fornece uma funcionalidade importante que é herdada por todos valores em Python: é lá que é implementado o mecanismo de controle de memória e atribuição de tipos dos valores Python. Instâncias de \"object\" conseguem falar sobre o seu tipo e serem alocadas e desalocadas da memória. Isso sozinho, não é muito, mas é uma habilidade essencial!\n",
    "\n",
    "Agora que sabemos desta hierarquia de tipos, vamos aprender a criar nossos nossos próprios tipos. Em Python, assim como em várias outras linguagens, usamos \"tipo\" como sinônimo de \"classe\" e, ainda que a função \"type\" seja utilizada para obter o tipo/classe de um valor, a criação de novos tipos é feita com a palavra reservada class.\n",
    "\n",
    "Uma classe vazia que não implementa nenhuma função especial e não declara nenhum atributo às suas instâncias pode ser criada de forma muito simples: "
   ]
  },
  {
   "cell_type": "code",
   "execution_count": 14,
   "metadata": {},
   "outputs": [],
   "source": [
    "class MyClass(object):\n",
    "    ...\n",
    "    \n",
    "    \n",
    "my_instance = MyClass()  # Aqui criamos instâncias de MyClass()"
   ]
  },
  {
   "cell_type": "markdown",
   "metadata": {},
   "source": [
    "A declaração diz que MyClass é sub-classe de object, mas não implementa nenhuma funcionalidade nova. Podemos especificar várias funcionalidades adicionais e em breve mostrarei como fazê-lo: criar funções associadas às instâncias da classe (as quais chamamos de métodos), criar valores para os campos da classe, definir o comportamento de operadores ou ainda especificar uma classe base diferente a partir da qual fazemos a herança. \n",
    "\n",
    "O primeiro ponto que podemos personalizar na criação de uma classe é a inicialização da mesma. Para deixar a discussão mais concreta, vamos implementar uma classe simples e aos poucos mostrar como definir novas funcionalidades. Classes sempre representam abstracções. Podem ser abstrações que representam objetos do mundo real (por exemplo uma Pessoa, um Gato), podem representar objetos de um mundo abstrato (ex.: Jogador de um jogo, um Inimigo, etc) ou ainda conceitos matemáticos abstratos como vetores, números, estruturas de dados etc.\n",
    "\n",
    "No nosso exemplo, vamos criar uma classe que representa vetores em um espaço bidimensional. Chamaremos essa classe de `Vec2D` respeitando a conveção que tipos novos devem usar letras maiúsculas no modo CamelCase."
   ]
  },
  {
   "cell_type": "code",
   "execution_count": 8,
   "metadata": {},
   "outputs": [],
   "source": [
    "from math import sqrt\n",
    "\n",
    "\n",
    "class Vec2D(object):\n",
    "    def __init__(self, x, y):\n",
    "        self.x = x\n",
    "        self.y = y\n",
    "        \n",
    "    def length(self):\n",
    "        return sqrt(self.x**2 + self.y**2)"
   ]
  },
  {
   "cell_type": "markdown",
   "metadata": {},
   "source": [
    "Uma declaração de classe começa com a linha \"class NomeDaClasse(bases):\" e segue com uma lista de declarações das funcionalidades. As funcionalidades geralmente são funções associadas aos objetos daquela classe (métodos), mas algunas funções especiais como a `__init__` que são interpretadas de forma especial. O init, por exemplo, é sempre executado durante a criação de uma instância para inicializar o estado da mesma. O código acima cria dois atributos x e y e associa os valores passados para `__init__` respectivamente aos atributos x e y.\n",
    "\n",
    "Os métodos de uma classe são funções que normalmente recebem um primeiro argumento chamado \"self\". O \"self\", neste caso, representa a instância (ou objeto) específico que está sendo utilizado. Pode parecer um pouco confuso no começo, mas vamos esclarecer com um exemplo. O primeiro passo é saber como construir exemplos (que em linguajar de orientação a objetos chamamos de instâncias) de vetores. \n",
    "\n",
    "As classes em Python são objetos que se comportam como funções que retornam novos objetos da classe correspondente. Assim, para criar um Vec2D, basta chamar"
   ]
  },
  {
   "cell_type": "code",
   "execution_count": 3,
   "metadata": {},
   "outputs": [],
   "source": [
    "u = Vec2D(1, 1)\n",
    "v = Vec2D(3, 4)"
   ]
  },
  {
   "cell_type": "markdown",
   "metadata": {},
   "source": [
    "Isto cria duas instâncias `u` e `v`, cada uma inicializada com valores diferentes. Podemos ver como cada um destes vetores se comportam de maneiras distintas ao chamarmos seus métodos ou investigar os atributos"
   ]
  },
  {
   "cell_type": "code",
   "execution_count": 7,
   "metadata": {},
   "outputs": [
    {
     "name": "stdout",
     "output_type": "stream",
     "text": [
      "Coordenadas de u: 1 1\n",
      "Coordenadas de v: 3 4\n",
      "Tamanho dos vetores: |u|=1.4142135623730951 e |v|=5.0\n"
     ]
    }
   ],
   "source": [
    "print(\"Coordenadas de u:\", u.x, u.y)   # Acessamos um atributo (sub-variável) com <nome>.<atributo>\n",
    "print(\"Coordenadas de v:\", v.x, v.y)\n",
    "print(f\"Tamanho dos vetores: |u|={u.length()} e |v|={v.length()}\")"
   ]
  },
  {
   "cell_type": "code",
   "execution_count": null,
   "metadata": {},
   "outputs": [],
   "source": []
  },
  {
   "cell_type": "markdown",
   "metadata": {},
   "source": [
    "É importante entender o mecanismo do funcionamento do `self` dentro dos métodos de uma classe. Observe que a função .length() dos vetores possui apenas um argumento `self` na sua definição, mas é chamada sem nenhum argumento em `u.length()` e `v.length()`. De fato, o primeiro argumento `self` é tratado de forma especial e e fica associado automaticamente à instância da classe que chamou o método. Assim, `u.length()` pode ser pensado só como um atalho para `Vec2D.length(u)` onde `Vec2D.length` corresponde à localização da função `length` dentro da classe Vec2D.\n",
    "\n",
    "\n",
    "## Métodos mágicos\n",
    "\n",
    "Classes podem definir um comportamento personalizado para suas instâncias em uma série de situações diferentes. Um exemplo disso são operadores matemáticos: podemos definir métodos que implementam as operações matemáticas extendendo-as para tipos personalizados. A maior parte destes mecanismos é implementada utilizando os chamados métodos mágico dunder-methods, que são funções com nomes específicos que começam e terminam com dois underscores.\n",
    "\n",
    "Talvez o exemplo mais importante seja o método `__init__` mostrado anteriormente. Ele é chamado para inicializar o objeto uma vez que o Python já alocou-o em memória. No `__init__` normalmente salvamos valores de atributos e realizamos qualquer rotina de incialização necessária para o funcionamento correto do método. No caso de vetores 2D, basta salvar as coordenadas x e y do mesmo. \n",
    "\n",
    "Diferentemente de outras linguagems, o Python não requer que declaremos de antemão quais são os atributos válidos de uma classe. Pode parecer um pouco confuso, mas basta simplesmente atribuir um atributo a um valor que tudo funciona normalmente. Assim, nosso vetor simplesmente cria os atributos x e y durante a incialização nas linhas `self.x = x` e `self.y = y`.\n",
    "\n",
    "Existem vários outros métodos mágicos além do `__init__` e a lista é certamente muito grande para ser expressa aqui. Citamos alguns com a funcionalidade correspondente.\n",
    "\n",
    "|Método|Descrição|\n",
    "|------|---------|\n",
    "|`__init__(self, ...)`|Inicializa instãncia. Pode possuir qualquer número de argumentos|\n",
    "|`__str__(self)`|Resultado de str(self). Altera modo como objeto é renderizado no terminal|\n",
    "|`__len__(self)`|Resultado de len(self). Retorna tamanho do objeto, se for uma coleção|\n",
    "|`__getitem__(self, i)`|Resultado de `self[i]`. Implementa acesso a índices|\n",
    "|`__add__(self, other)`|Implementa operação self + other. Também temos sub, mul, truediv (nome estranho por razões históricas), e outros|\n",
    "|`__bool__(self)`|Implementa operação bool(self), o que calcula o valor de verdade de um objeto|\n",
    "|`__eq__(self, other)`|Verifica se self é igual a other|\n",
    "\n",
    "\n",
    "### Exercício\n",
    "\n",
    "Com base na tabela acima, altere a classe Vec2D para implementar as seguintes funcionalidades:\n",
    "\n",
    "* Operações matemáticas: vetor aceita soma e subtração com outros vetores e multiplicação e divisão com escalares.\n",
    "* Acesso a indices: `v[0]` corresponde à `v.x` e `v[1]` à `v.y`.\n",
    "* Tamanho: `len(v)` deve ser sempre igual à 2.\n",
    "* Representação como string na forma \"Vec2D(x, y)\", onde x e y são os valores das respectivas coordenadas.\n",
    "* Valor de verdade é nulo se as duas coordenadas forem nulas."
   ]
  },
  {
   "cell_type": "code",
   "execution_count": null,
   "metadata": {},
   "outputs": [],
   "source": [
    "from math import sqrt\n",
    "\n",
    "\n",
    "class Vec2D(object):\n",
    "    def __init__(self, x, y):\n",
    "        self.x = x\n",
    "        self.y = y\n",
    "        \n",
    "    def __eq__(self, other):\n",
    "        if isinstance(other, Vec2D):\n",
    "            return self.x == other.x and self.y == other.y\n",
    "        return False\n",
    "        \n",
    "    def length(self):\n",
    "        return sqrt(self.x**2 + self.y**2)\n",
    "    \n",
    "    ... # Continue aqui\n",
    "    \n",
    "    \n",
    "# Testes\n",
    "u = Vec2D(1, 2)\n",
    "v = Vec2D(3, 4)\n",
    "\n",
    "assert u + v == Vec2D(4, 6)\n",
    "assert v - u == Vec2D(2, 2)\n",
    "assert u * 2 == Vec2D(2, 4)\n",
    "assert u / 2 == Vec2D(0.5, 1.0)\n",
    "assert len(u) == len(v) == 2\n",
    "assert u[0] == u.x and u[1] == u.y\n",
    "assert bool(u) is True\n",
    "assert bool(Vec2D(0, 0)) is False\n",
    "assert str(u) == \"Vec2D(1, 2)\""
   ]
  },
  {
   "cell_type": "code",
   "execution_count": null,
   "metadata": {},
   "outputs": [],
   "source": [
    "## Herança e reaproveitamento de códigos\n",
    "\n",
    "## Exemplos em compiladores\n",
    "\n",
    "## Exemp"
   ]
  }
 ],
 "metadata": {
  "kernelspec": {
   "display_name": "Python 3",
   "language": "python",
   "name": "python3"
  },
  "language_info": {
   "codemirror_mode": {
    "name": "ipython",
    "version": 3
   },
   "file_extension": ".py",
   "mimetype": "text/x-python",
   "name": "python",
   "nbconvert_exporter": "python",
   "pygments_lexer": "ipython3",
   "version": "3.8.5"
  }
 },
 "nbformat": 4,
 "nbformat_minor": 4
}
